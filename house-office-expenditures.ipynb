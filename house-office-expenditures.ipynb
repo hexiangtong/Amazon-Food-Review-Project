{
 "cells": [
  {
   "cell_type": "code",
   "execution_count": 1,
   "metadata": {},
   "outputs": [],
   "source": [
    "import numpy as np\n",
    "import pandas as pd\n",
    "import matplotlib.pyplot as plt\n",
    "import scipy\n",
    "import seaborn\n",
    "%matplotlib inline"
   ]
  },
  {
   "cell_type": "code",
   "execution_count": 2,
   "metadata": {},
   "outputs": [
    {
     "name": "stderr",
     "output_type": "stream",
     "text": [
      "C:\\Users\\Yuan\\Anaconda3\\lib\\site-packages\\IPython\\core\\interactiveshell.py:2785: DtypeWarning: Columns (0) have mixed types. Specify dtype option on import or set low_memory=False.\n",
      "  interactivity=interactivity, compiler=compiler, result=result)\n"
     ]
    }
   ],
   "source": [
    "df1 = pd.read_csv('./2009Q3-house-disburse-detail.csv', thousands=',', parse_dates=['START DATE','END DATE'])\n",
    "df2 = pd.read_csv('./2009Q4-house-disburse-detail.csv', thousands=',', parse_dates=['START DATE','END DATE'])\n",
    "df3 = pd.read_csv('./2010Q1-house-disburse-detail.csv', thousands=',', parse_dates=['START DATE','END DATE'])\n",
    "df4 = pd.read_csv('./2010Q2-house-disburse-detail.csv', thousands=',', parse_dates=['START DATE','END DATE'])\n",
    "df5 = pd.read_csv('./2010Q3-house-disburse-detail.csv', thousands=',', parse_dates=['START DATE','END DATE'])\n",
    "df6 = pd.read_csv('./2010Q4-house-disburse-detail.csv', thousands=',', parse_dates=['START DATE','END DATE'])\n",
    "df7 = pd.read_csv('./2011Q1-house-disburse-detail.csv', thousands=',', parse_dates=['START DATE','END DATE'])\n",
    "df8 = pd.read_csv('./2011Q2-house-disburse-detail.csv', thousands=',', parse_dates=['START DATE','END DATE'])\n",
    "df9 = pd.read_csv('./2011Q3-house-disburse-detail.csv', thousands=',', parse_dates=['START DATE','END DATE'])\n",
    "df10 = pd.read_csv('./2011Q4-house-disburse-detail.csv', thousands=',', parse_dates=['START DATE','END DATE'])\n",
    "df11 = pd.read_csv('./2012Q1-house-disburse-detail.csv', thousands=',', parse_dates=['START DATE','END DATE'])\n",
    "df12 = pd.read_csv('./2012Q2-house-disburse-detail.csv', thousands=',', parse_dates=['START DATE','END DATE'])\n",
    "df13 = pd.read_csv('./2012Q3-house-disburse-detail.csv', thousands=',', parse_dates=['START DATE','END DATE'])\n",
    "df14 = pd.read_csv('./2012Q4-house-disburse-detail.csv', thousands=',', parse_dates=['START DATE','END DATE'])\n",
    "df15 = pd.read_csv('./2013Q1-house-disburse-detail.csv', thousands=',', parse_dates=['START DATE','END DATE'])\n",
    "df16 = pd.read_csv('./2013Q2-house-disburse-detail.csv', thousands=',', parse_dates=['START DATE','END DATE'])\n",
    "df17 = pd.read_csv('./2013Q3-house-disburse-detail.csv', thousands=',', parse_dates=['START DATE','END DATE'])\n",
    "df18 = pd.read_csv('./2013Q4-house-disburse-detail.csv', thousands=',', parse_dates=['START DATE','END DATE'])\n",
    "df19 = pd.read_csv('./2014Q1-house-disburse-detail.csv', thousands=',', parse_dates=['START DATE','END DATE'])\n",
    "df20 = pd.read_csv('./2014Q2-house-disburse-detail.csv', thousands=',', parse_dates=['START DATE','END DATE'])\n",
    "df21 = pd.read_csv('./2014Q3-house-disburse-detail.csv', thousands=',', parse_dates=['START DATE','END DATE'])\n",
    "df22 = pd.read_csv('./2014Q4-house-disburse-detail.csv', thousands=',', parse_dates=['START DATE','END DATE'])\n",
    "df23 = pd.read_csv('./2015Q1-house-disburse-detail.csv', thousands=',', parse_dates=['START DATE','END DATE'])\n",
    "df24 = pd.read_csv('./2015Q2-house-disburse-detail-updated.csv', thousands=',', parse_dates=['START DATE','END DATE'])\n",
    "df25 = pd.read_csv('./2015Q3-house-disburse-detail.csv', thousands=',', parse_dates=['START DATE','END DATE'])\n",
    "df26 = pd.read_csv('./2015Q4-house-disburse-detail.csv', thousands=',', parse_dates=['START DATE','END DATE'])\n",
    "df27 = pd.read_csv('./2016Q1-house-disburse-detail.csv', thousands=',', parse_dates=['START DATE','END DATE'])\n",
    "df28 = pd.read_csv('./2016Q2-house-disburse-detail.csv', thousands=',', parse_dates=['START DATE','END DATE'])\n",
    "df29 = pd.read_csv('./2016Q3-house-disburse-detail.csv', thousands=',',  parse_dates=['START DATE','END DATE'])\n",
    "df30 = pd.read_csv('./2016Q4-house-disburse-detail.csv', thousands=',', parse_dates=['START DATE','END DATE'])\n",
    "df31 = pd.read_csv('./2017Q1-house-disburse-detail.csv', encoding='unicode_escape',parse_dates=['START DATE','END DATE'])\n",
    "df32 = pd.read_csv('./2017Q2-house-disburse-detail.csv', encoding='unicode_escape',parse_dates=['START DATE','END DATE'])\n",
    "df33 = pd.read_csv('./2017Q3-house-disburse-detail.csv', thousands=',',parse_dates=['START DATE','END DATE'])\n",
    "df34 = pd.read_csv('./2017Q4-house-disburse-detail.csv', thousands=',',parse_dates=['START DATE','END DATE'])\n",
    "df35 = pd.read_csv('./2018Q1-house-disburse-detail.csv', encoding='unicode_escape',parse_dates=['START DATE','END DATE'])"
   ]
  },
  {
   "cell_type": "code",
   "execution_count": 9,
   "metadata": {},
   "outputs": [],
   "source": [
    "dfs = [df1,df2,df3,df4,df5,df6,df7,df8,df9,df10,df11,df12,df13,df14,df15,df16,df17,df18,df19,df20,df21,df22,df23,df24,df25,\n",
    "        df26,df27,df28,df29,df30,df31,df32,df33,df34,df35]"
   ]
  },
  {
   "cell_type": "code",
   "execution_count": 19,
   "metadata": {},
   "outputs": [],
   "source": [
    "dfs1=[df1,df2,df3,df4,df5,df6,df7,df8,df9,df10,df11,df12,df13,df14,df15,df16,df17,df18,df19,df20,df21,df22,df23,df24,df25,\n",
    "        df26,df27,df28,df29,df30,df31,df32]"
   ]
  },
  {
   "cell_type": "code",
   "execution_count": 50,
   "metadata": {},
   "outputs": [
    {
     "data": {
      "text/plain": [
       "9775"
      ]
     },
     "execution_count": 50,
     "metadata": {},
     "output_type": "execute_result"
    }
   ],
   "source": [
    "len(df1[(df1['CATEGORY'] == 'PERSONNEL COMPENSATION') & (df1['YEAR'] == '2016')]['PAYEE'].unique())"
   ]
  },
  {
   "cell_type": "code",
   "execution_count": 10,
   "metadata": {
    "scrolled": true
   },
   "outputs": [
    {
     "name": "stderr",
     "output_type": "stream",
     "text": [
      "C:\\Users\\Yuan\\Anaconda3\\lib\\site-packages\\ipykernel_launcher.py:1: FutureWarning: Sorting because non-concatenation axis is not aligned. A future version\n",
      "of pandas will change to not sort by default.\n",
      "\n",
      "To accept the future behavior, pass 'sort=True'.\n",
      "\n",
      "To retain the current behavior and silence the warning, pass sort=False\n",
      "\n",
      "  \"\"\"Entry point for launching an IPython kernel.\n"
     ]
    }
   ],
   "source": [
    "df = pd.concat(dfs, ignore_index=True)"
   ]
  },
  {
   "cell_type": "code",
   "execution_count": 11,
   "metadata": {
    "scrolled": true
   },
   "outputs": [
    {
     "data": {
      "text/plain": [
       "(3542048, 17)"
      ]
     },
     "execution_count": 11,
     "metadata": {},
     "output_type": "execute_result"
    }
   ],
   "source": [
    "df.shape"
   ]
  },
  {
   "cell_type": "code",
   "execution_count": 25,
   "metadata": {},
   "outputs": [
    {
     "name": "stdout",
     "output_type": "stream",
     "text": [
      "<class 'pandas.core.frame.DataFrame'>\n",
      "RangeIndex: 3542048 entries, 0 to 3542047\n",
      "Data columns (total 17 columns):\n",
      "AMOUNT           object\n",
      "BIOGUIDE_ID      object\n",
      "CATEGORY         object\n",
      "DATE             object\n",
      "END DATE         object\n",
      "OFFICE           object\n",
      "PAYEE            object\n",
      "PROGRAM          object\n",
      "PURPOSE          object\n",
      "QUARTER          object\n",
      "RECIP (orig.)    object\n",
      "RECORDID         object\n",
      "SORT SEQUENCE    object\n",
      "START DATE       object\n",
      "TRANSCODE        object\n",
      "TRANSCODELONG    object\n",
      "YEAR             object\n",
      "dtypes: object(17)\n",
      "memory usage: 459.4+ MB\n"
     ]
    }
   ],
   "source": [
    "df.info()"
   ]
  },
  {
   "cell_type": "code",
   "execution_count": 29,
   "metadata": {},
   "outputs": [
    {
     "data": {
      "text/html": [
       "<div>\n",
       "<style scoped>\n",
       "    .dataframe tbody tr th:only-of-type {\n",
       "        vertical-align: middle;\n",
       "    }\n",
       "\n",
       "    .dataframe tbody tr th {\n",
       "        vertical-align: top;\n",
       "    }\n",
       "\n",
       "    .dataframe thead th {\n",
       "        text-align: right;\n",
       "    }\n",
       "</style>\n",
       "<table border=\"1\" class=\"dataframe\">\n",
       "  <thead>\n",
       "    <tr style=\"text-align: right;\">\n",
       "      <th></th>\n",
       "      <th>AMOUNT</th>\n",
       "      <th>BIOGUIDE_ID</th>\n",
       "      <th>CATEGORY</th>\n",
       "      <th>DATE</th>\n",
       "      <th>END DATE</th>\n",
       "      <th>OFFICE</th>\n",
       "      <th>PAYEE</th>\n",
       "      <th>PROGRAM</th>\n",
       "      <th>PURPOSE</th>\n",
       "      <th>QUARTER</th>\n",
       "      <th>RECIP (orig.)</th>\n",
       "      <th>RECORDID</th>\n",
       "      <th>SORT SEQUENCE</th>\n",
       "      <th>START DATE</th>\n",
       "      <th>TRANSCODE</th>\n",
       "      <th>TRANSCODELONG</th>\n",
       "      <th>YEAR</th>\n",
       "    </tr>\n",
       "  </thead>\n",
       "  <tbody>\n",
       "    <tr>\n",
       "      <th>0</th>\n",
       "      <td>16799.2</td>\n",
       "      <td>NaN</td>\n",
       "      <td>OTHER SERVICES</td>\n",
       "      <td>NaN</td>\n",
       "      <td>2006-10-04 00:00:00</td>\n",
       "      <td>COMMUNICATIONS</td>\n",
       "      <td>07Â­01   P2 OPR0900726A                    STR...</td>\n",
       "      <td>NaN</td>\n",
       "      <td>NON-TECHNOLOGY SERVICE CONTRCT</td>\n",
       "      <td>2009Q3</td>\n",
       "      <td>07Â­01   P2 OPR0900726A                    STR...</td>\n",
       "      <td>NaN</td>\n",
       "      <td>NaN</td>\n",
       "      <td>2006-10-04 00:00:00</td>\n",
       "      <td>NaN</td>\n",
       "      <td>NaN</td>\n",
       "      <td>FISCAL YEAR 2009</td>\n",
       "    </tr>\n",
       "    <tr>\n",
       "      <th>1</th>\n",
       "      <td>3876.75</td>\n",
       "      <td>NaN</td>\n",
       "      <td>OTHER SERVICES</td>\n",
       "      <td>NaN</td>\n",
       "      <td>2006-10-04 00:00:00</td>\n",
       "      <td>COMMUNICATIONS</td>\n",
       "      <td>07Â­22   P2 OPR0900726B                       ...</td>\n",
       "      <td>NaN</td>\n",
       "      <td>NON-TECHNOLOGY SERVICE CONTRCT</td>\n",
       "      <td>2009Q3</td>\n",
       "      <td>07Â­22   P2 OPR0900726B                       ...</td>\n",
       "      <td>NaN</td>\n",
       "      <td>NaN</td>\n",
       "      <td>2006-10-04 00:00:00</td>\n",
       "      <td>NaN</td>\n",
       "      <td>NaN</td>\n",
       "      <td>FISCAL YEAR 2009</td>\n",
       "    </tr>\n",
       "    <tr>\n",
       "      <th>2</th>\n",
       "      <td>2132</td>\n",
       "      <td>NaN</td>\n",
       "      <td>OTHER SERVICES</td>\n",
       "      <td>NaN</td>\n",
       "      <td>2006-07-18 00:00:00</td>\n",
       "      <td>COMMUNICATIONS</td>\n",
       "      <td>08Â­06   P2 FSS0000575A                    THE...</td>\n",
       "      <td>NaN</td>\n",
       "      <td>NON-TECHNOLOGY SERVICE CONTRCT</td>\n",
       "      <td>2009Q3</td>\n",
       "      <td>08Â­06   P2 FSS0000575A                    THE...</td>\n",
       "      <td>NaN</td>\n",
       "      <td>NaN</td>\n",
       "      <td>2006-07-18 00:00:00</td>\n",
       "      <td>NaN</td>\n",
       "      <td>NaN</td>\n",
       "      <td>FISCAL YEAR 2009</td>\n",
       "    </tr>\n",
       "    <tr>\n",
       "      <th>3</th>\n",
       "      <td>888</td>\n",
       "      <td>NaN</td>\n",
       "      <td>OTHER SERVICES</td>\n",
       "      <td>NaN</td>\n",
       "      <td>2009-05-29 00:00:00</td>\n",
       "      <td>COMMUNICATIONS</td>\n",
       "      <td>08Â­25   P2 MFP0003163                     AVAYA</td>\n",
       "      <td>NaN</td>\n",
       "      <td>NON-TECHNOLOGY SERVICE CONTRCT</td>\n",
       "      <td>2009Q3</td>\n",
       "      <td>08Â­25   P2 MFP0003163                     AVAYA</td>\n",
       "      <td>NaN</td>\n",
       "      <td>NaN</td>\n",
       "      <td>2009-05-29 00:00:00</td>\n",
       "      <td>NaN</td>\n",
       "      <td>NaN</td>\n",
       "      <td>FISCAL YEAR 2009</td>\n",
       "    </tr>\n",
       "    <tr>\n",
       "      <th>4</th>\n",
       "      <td>590.18</td>\n",
       "      <td>NaN</td>\n",
       "      <td>OTHER SERVICES</td>\n",
       "      <td>NaN</td>\n",
       "      <td>2006-10-04 00:00:00</td>\n",
       "      <td>COMMUNICATIONS</td>\n",
       "      <td>09Â­10   P2 OPR0900726C                    STR...</td>\n",
       "      <td>NaN</td>\n",
       "      <td>NON-TECHNOLOGY SERVICE CONTRCT</td>\n",
       "      <td>2009Q3</td>\n",
       "      <td>09Â­10   P2 OPR0900726C                    STR...</td>\n",
       "      <td>NaN</td>\n",
       "      <td>NaN</td>\n",
       "      <td>2006-10-04 00:00:00</td>\n",
       "      <td>NaN</td>\n",
       "      <td>NaN</td>\n",
       "      <td>FISCAL YEAR 2009</td>\n",
       "    </tr>\n",
       "  </tbody>\n",
       "</table>\n",
       "</div>"
      ],
      "text/plain": [
       "    AMOUNT BIOGUIDE_ID        CATEGORY DATE             END DATE  \\\n",
       "0  16799.2         NaN  OTHER SERVICES  NaN  2006-10-04 00:00:00   \n",
       "1  3876.75         NaN  OTHER SERVICES  NaN  2006-10-04 00:00:00   \n",
       "2     2132         NaN  OTHER SERVICES  NaN  2006-07-18 00:00:00   \n",
       "3      888         NaN  OTHER SERVICES  NaN  2009-05-29 00:00:00   \n",
       "4   590.18         NaN  OTHER SERVICES  NaN  2006-10-04 00:00:00   \n",
       "\n",
       "           OFFICE                                              PAYEE PROGRAM  \\\n",
       "0  COMMUNICATIONS  07Â­01   P2 OPR0900726A                    STR...     NaN   \n",
       "1  COMMUNICATIONS  07Â­22   P2 OPR0900726B                       ...     NaN   \n",
       "2  COMMUNICATIONS  08Â­06   P2 FSS0000575A                    THE...     NaN   \n",
       "3  COMMUNICATIONS   08Â­25   P2 MFP0003163                     AVAYA     NaN   \n",
       "4  COMMUNICATIONS  09Â­10   P2 OPR0900726C                    STR...     NaN   \n",
       "\n",
       "                          PURPOSE QUARTER  \\\n",
       "0  NON-TECHNOLOGY SERVICE CONTRCT  2009Q3   \n",
       "1  NON-TECHNOLOGY SERVICE CONTRCT  2009Q3   \n",
       "2  NON-TECHNOLOGY SERVICE CONTRCT  2009Q3   \n",
       "3  NON-TECHNOLOGY SERVICE CONTRCT  2009Q3   \n",
       "4  NON-TECHNOLOGY SERVICE CONTRCT  2009Q3   \n",
       "\n",
       "                                       RECIP (orig.) RECORDID SORT SEQUENCE  \\\n",
       "0  07Â­01   P2 OPR0900726A                    STR...      NaN           NaN   \n",
       "1  07Â­22   P2 OPR0900726B                       ...      NaN           NaN   \n",
       "2  08Â­06   P2 FSS0000575A                    THE...      NaN           NaN   \n",
       "3   08Â­25   P2 MFP0003163                     AVAYA      NaN           NaN   \n",
       "4  09Â­10   P2 OPR0900726C                    STR...      NaN           NaN   \n",
       "\n",
       "            START DATE TRANSCODE TRANSCODELONG              YEAR  \n",
       "0  2006-10-04 00:00:00       NaN           NaN  FISCAL YEAR 2009  \n",
       "1  2006-10-04 00:00:00       NaN           NaN  FISCAL YEAR 2009  \n",
       "2  2006-07-18 00:00:00       NaN           NaN  FISCAL YEAR 2009  \n",
       "3  2009-05-29 00:00:00       NaN           NaN  FISCAL YEAR 2009  \n",
       "4  2006-10-04 00:00:00       NaN           NaN  FISCAL YEAR 2009  "
      ]
     },
     "execution_count": 29,
     "metadata": {},
     "output_type": "execute_result"
    }
   ],
   "source": [
    "df.head()"
   ]
  },
  {
   "cell_type": "code",
   "execution_count": 20,
   "metadata": {
    "scrolled": true
   },
   "outputs": [
    {
     "name": "stderr",
     "output_type": "stream",
     "text": [
      "C:\\Users\\Yuan\\Anaconda3\\lib\\site-packages\\ipykernel_launcher.py:1: FutureWarning: Sorting because non-concatenation axis is not aligned. A future version\n",
      "of pandas will change to not sort by default.\n",
      "\n",
      "To accept the future behavior, pass 'sort=True'.\n",
      "\n",
      "To retain the current behavior and silence the warning, pass sort=False\n",
      "\n",
      "  \"\"\"Entry point for launching an IPython kernel.\n"
     ]
    }
   ],
   "source": [
    "dff = pd.concat(dfs1, ignore_index=True)"
   ]
  },
  {
   "cell_type": "code",
   "execution_count": 13,
   "metadata": {},
   "outputs": [
    {
     "data": {
      "text/plain": [
       "12699262210.909994"
      ]
     },
     "execution_count": 13,
     "metadata": {},
     "output_type": "execute_result"
    }
   ],
   "source": [
    "#total of all the payments\n",
    "df1 = df[df['AMOUNT'] != '#VALUE!']\n",
    "df1.AMOUNT.astype('float').values.sum()"
   ]
  },
  {
   "cell_type": "code",
   "execution_count": 18,
   "metadata": {},
   "outputs": [
    {
     "name": "stdout",
     "output_type": "stream",
     "text": [
      "12699262210.906502\n"
     ]
    }
   ],
   "source": [
    "#total of all the payments\n",
    "ans = 0\n",
    "for i in df['AMOUNT'].values:\n",
    "    if i != '#VALUE!':\n",
    "        ans += float(i)\n",
    "print(ans)"
   ]
  },
  {
   "cell_type": "code",
   "execution_count": null,
   "metadata": {},
   "outputs": [],
   "source": [
    "# start date between [1/1/10, 12/31/16]\n",
    "data = df[(df['START DATE'] >= pd.Timestamp(2010, 1, 1, 0) & (df['START DATE'] <= pd.Timestamp(2016, 12, 31, 0))]\n",
    "aver_expenditure = data[data['AMOUNT'] > 0]['AMOUNT'].sum() / 6\n",
    "print('the average annual expenditure is %f.' % (aver_expenditure))"
   ]
  },
  {
   "cell_type": "code",
   "execution_count": null,
   "metadata": {},
   "outputs": [],
   "source": [
    "#coverage period\n",
    "df['Coverage_Period'] = df['END DATE'] - df['START DATE']\n",
    "print('the standard deviation is %f.' % (df['Coverage_Period'].std()))"
   ]
  },
  {
   "cell_type": "code",
   "execution_count": null,
   "metadata": {},
   "outputs": [],
   "source": []
  },
  {
   "cell_type": "code",
   "execution_count": null,
   "metadata": {},
   "outputs": [],
   "source": [
    "#Find the 'OFFICE' with the highest total expenditures with a 'START DATE' in 2016.\n",
    "df['year'] = df['START DATE'].dt.year\n",
    "offices = df['OFFICE'].values\n",
    "expenditures = 0\n",
    "office_name = ''\n",
    "for office in offices:\n",
    "    exp = df[(df['OFFICE'] == office) & (df['year'] = '2016')]['AMOUNT'].sum()\n",
    "    if exp > expenditures:\n",
    "        expenditures = exp\n",
    "        office_name = office\n",
    "print(office_name)\n",
    "\n",
    "purpose = df['PURPOSE'].values\n",
    "sum = 0\n",
    "purpose_name = ' '\n",
    "for p in purpose:\n",
    "    sum1 = df[(df['OFFICE'] == office_name) & (df['year'] = '2016') & df['PURPOSE'] == p]['AMOUNT'].sum()\n",
    "    if sum < sum1:\n",
    "        sum = sum1\n",
    "        purpose_name = p\n",
    "print(purpose_name)\n",
    "    "
   ]
  },
  {
   "cell_type": "code",
   "execution_count": 52,
   "metadata": {},
   "outputs": [
    {
     "name": "stdout",
     "output_type": "stream",
     "text": [
      "the number of unique payees in the PERSONNEL COMPENSATION  11267\n"
     ]
    }
   ],
   "source": [
    "#What was the highest average staff salary among all representatives in 2016\n",
    "num1 = len(df1[(df1['CATEGORY'] == 'PERSONNEL COMPENSATION') & (df1['YEAR'] == '2016')]['PAYEE'].unique())\n",
    "num2 = len(df1[(df1['CATEGORY'] == 'PERSONNEL COMPENSATION') & (df1['YEAR'] == 'FISCAL YEAR 2016')]['PAYEE'].unique())\n",
    "print('the number of unique payees in the PERSONNEL COMPENSATION ', num1 + num2)"
   ]
  },
  {
   "cell_type": "code",
   "execution_count": 56,
   "metadata": {},
   "outputs": [
    {
     "name": "stdout",
     "output_type": "stream",
     "text": [
      "46580.84\n"
     ]
    }
   ],
   "source": [
    "max1 = df1[(df1['CATEGORY'] == 'PERSONNEL COMPENSATION') & (df1['YEAR'] == '2016')]['AMOUNT'].max()\n",
    "max2 = df1[(df1['CATEGORY'] == 'PERSONNEL COMPENSATION') & (df1['YEAR'] == 'FISCAL YEAR 2016')]['AMOUNT'].max()\n",
    "res = max(max1, max2)\n",
    "print(res)"
   ]
  },
  {
   "cell_type": "code",
   "execution_count": null,
   "metadata": {},
   "outputs": [],
   "source": [
    "#What percentage of the expenditures of the top 20 spenders in 2016 come from members of the Democratic Party?\n",
    "#Representatives are identified by their 'BIOGUIDE_ID'\n"
   ]
  }
 ],
 "metadata": {
  "kernelspec": {
   "display_name": "Python 3",
   "language": "python",
   "name": "python3"
  },
  "language_info": {
   "codemirror_mode": {
    "name": "ipython",
    "version": 3
   },
   "file_extension": ".py",
   "mimetype": "text/x-python",
   "name": "python",
   "nbconvert_exporter": "python",
   "pygments_lexer": "ipython3",
   "version": "3.6.5"
  }
 },
 "nbformat": 4,
 "nbformat_minor": 2
}

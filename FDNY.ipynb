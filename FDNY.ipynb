{
 "cells": [
  {
   "cell_type": "code",
   "execution_count": 1,
   "metadata": {},
   "outputs": [],
   "source": [
    "import numpy as np\n",
    "import pandas as pd\n",
    "import matplotlib.pyplot as plt\n",
    "import scipy.stats as ss"
   ]
  },
  {
   "cell_type": "code",
   "execution_count": 2,
   "metadata": {},
   "outputs": [
    {
     "name": "stderr",
     "output_type": "stream",
     "text": [
      "C:\\Users\\Yuan\\Anaconda3\\lib\\site-packages\\IPython\\core\\interactiveshell.py:2785: DtypeWarning: Columns (1,14) have mixed types. Specify dtype option on import or set low_memory=False.\n",
      "  interactivity=interactivity, compiler=compiler, result=result)\n"
     ]
    }
   ],
   "source": [
    "df = pd.read_csv('./Incidents_Responded_to_by_Fire_Companies.csv')"
   ]
  },
  {
   "cell_type": "code",
   "execution_count": 109,
   "metadata": {},
   "outputs": [
    {
     "data": {
      "text/html": [
       "<div>\n",
       "<style scoped>\n",
       "    .dataframe tbody tr th:only-of-type {\n",
       "        vertical-align: middle;\n",
       "    }\n",
       "\n",
       "    .dataframe tbody tr th {\n",
       "        vertical-align: top;\n",
       "    }\n",
       "\n",
       "    .dataframe thead th {\n",
       "        text-align: right;\n",
       "    }\n",
       "</style>\n",
       "<table border=\"1\" class=\"dataframe\">\n",
       "  <thead>\n",
       "    <tr style=\"text-align: right;\">\n",
       "      <th></th>\n",
       "      <th>IM_INCIDENT_KEY</th>\n",
       "      <th>FIRE_BOX</th>\n",
       "      <th>INCIDENT_TYPE_DESC</th>\n",
       "      <th>INCIDENT_DATE_TIME</th>\n",
       "      <th>ARRIVAL_DATE_TIME</th>\n",
       "      <th>UNITS_ONSCENE</th>\n",
       "      <th>LAST_UNIT_CLEARED_DATE_TIME</th>\n",
       "      <th>HIGHEST_LEVEL_DESC</th>\n",
       "      <th>TOTAL_INCIDENT_DURATION</th>\n",
       "      <th>ACTION_TAKEN1_DESC</th>\n",
       "      <th>...</th>\n",
       "      <th>CO_DETECTOR_PRESENT_DESC</th>\n",
       "      <th>FIRE_ORIGIN_BELOW_GRADE_FLAG</th>\n",
       "      <th>STORY_FIRE_ORIGIN_COUNT</th>\n",
       "      <th>FIRE_SPREAD_DESC</th>\n",
       "      <th>DETECTOR_PRESENCE_DESC</th>\n",
       "      <th>AES_PRESENCE_DESC</th>\n",
       "      <th>STANDPIPE_SYS_PRESENT_FLAG</th>\n",
       "      <th>distribution_times</th>\n",
       "      <th>Time</th>\n",
       "      <th>Hour</th>\n",
       "    </tr>\n",
       "  </thead>\n",
       "  <tbody>\n",
       "    <tr>\n",
       "      <th>2277774</th>\n",
       "      <td>62589520</td>\n",
       "      <td>2225</td>\n",
       "      <td>300 - Rescue, EMS incident, other</td>\n",
       "      <td>12/27/2017 12:06:29 PM</td>\n",
       "      <td>NaN</td>\n",
       "      <td>NaN</td>\n",
       "      <td>12/27/2017 12:23:57 PM</td>\n",
       "      <td>1 - More than initial alarm, less than Signal 7-5</td>\n",
       "      <td>1048.0</td>\n",
       "      <td>00 - Action taken, other</td>\n",
       "      <td>...</td>\n",
       "      <td>NaN</td>\n",
       "      <td>NaN</td>\n",
       "      <td>NaN</td>\n",
       "      <td>NaN</td>\n",
       "      <td>NaN</td>\n",
       "      <td>NaN</td>\n",
       "      <td>NaN</td>\n",
       "      <td>NaT</td>\n",
       "      <td>2017-12-27 12:06:29</td>\n",
       "      <td>12:06:29</td>\n",
       "    </tr>\n",
       "    <tr>\n",
       "      <th>2277775</th>\n",
       "      <td>62589522</td>\n",
       "      <td>3757</td>\n",
       "      <td>735B - Unnecessary alarm/alarm system testing ...</td>\n",
       "      <td>12/27/2017 12:08:21 PM</td>\n",
       "      <td>NaN</td>\n",
       "      <td>NaN</td>\n",
       "      <td>12/27/2017 12:25:33 PM</td>\n",
       "      <td>1 - More than initial alarm, less than Signal 7-5</td>\n",
       "      <td>1032.0</td>\n",
       "      <td>86 - Investigate</td>\n",
       "      <td>...</td>\n",
       "      <td>NaN</td>\n",
       "      <td>NaN</td>\n",
       "      <td>NaN</td>\n",
       "      <td>NaN</td>\n",
       "      <td>NaN</td>\n",
       "      <td>NaN</td>\n",
       "      <td>NaN</td>\n",
       "      <td>NaT</td>\n",
       "      <td>2017-12-27 12:08:21</td>\n",
       "      <td>12:08:21</td>\n",
       "    </tr>\n",
       "    <tr>\n",
       "      <th>2277776</th>\n",
       "      <td>62589542</td>\n",
       "      <td>715</td>\n",
       "      <td>745A - Unnecessary alarm/ordinary household ac...</td>\n",
       "      <td>12/27/2017 12:05:10 PM</td>\n",
       "      <td>NaN</td>\n",
       "      <td>NaN</td>\n",
       "      <td>12/27/2017 12:32:09 PM</td>\n",
       "      <td>1 - More than initial alarm, less than Signal 7-5</td>\n",
       "      <td>1619.0</td>\n",
       "      <td>86 - Investigate</td>\n",
       "      <td>...</td>\n",
       "      <td>NaN</td>\n",
       "      <td>NaN</td>\n",
       "      <td>NaN</td>\n",
       "      <td>NaN</td>\n",
       "      <td>NaN</td>\n",
       "      <td>NaN</td>\n",
       "      <td>NaN</td>\n",
       "      <td>NaT</td>\n",
       "      <td>2017-12-27 12:05:10</td>\n",
       "      <td>12:05:10</td>\n",
       "    </tr>\n",
       "    <tr>\n",
       "      <th>2277777</th>\n",
       "      <td>62589549</td>\n",
       "      <td>936</td>\n",
       "      <td>735A - Unwarranted alarm/defective condition o...</td>\n",
       "      <td>12/27/2017 12:13:40 PM</td>\n",
       "      <td>NaN</td>\n",
       "      <td>NaN</td>\n",
       "      <td>12/27/2017 12:25:36 PM</td>\n",
       "      <td>1 - More than initial alarm, less than Signal 7-5</td>\n",
       "      <td>716.0</td>\n",
       "      <td>86 - Investigate</td>\n",
       "      <td>...</td>\n",
       "      <td>NaN</td>\n",
       "      <td>NaN</td>\n",
       "      <td>NaN</td>\n",
       "      <td>NaN</td>\n",
       "      <td>NaN</td>\n",
       "      <td>NaN</td>\n",
       "      <td>NaN</td>\n",
       "      <td>NaT</td>\n",
       "      <td>2017-12-27 12:13:40</td>\n",
       "      <td>12:13:40</td>\n",
       "    </tr>\n",
       "    <tr>\n",
       "      <th>2277778</th>\n",
       "      <td>62589556</td>\n",
       "      <td>1031</td>\n",
       "      <td>735A - Unwarranted alarm/defective condition o...</td>\n",
       "      <td>12/27/2017 12:19:51 PM</td>\n",
       "      <td>NaN</td>\n",
       "      <td>NaN</td>\n",
       "      <td>12/27/2017 12:39:15 PM</td>\n",
       "      <td>1 - More than initial alarm, less than Signal 7-5</td>\n",
       "      <td>1164.0</td>\n",
       "      <td>86 - Investigate</td>\n",
       "      <td>...</td>\n",
       "      <td>NaN</td>\n",
       "      <td>NaN</td>\n",
       "      <td>NaN</td>\n",
       "      <td>NaN</td>\n",
       "      <td>NaN</td>\n",
       "      <td>NaN</td>\n",
       "      <td>NaN</td>\n",
       "      <td>NaT</td>\n",
       "      <td>2017-12-27 12:19:51</td>\n",
       "      <td>12:19:51</td>\n",
       "    </tr>\n",
       "  </tbody>\n",
       "</table>\n",
       "<p>5 rows × 27 columns</p>\n",
       "</div>"
      ],
      "text/plain": [
       "         IM_INCIDENT_KEY FIRE_BOX  \\\n",
       "2277774         62589520     2225   \n",
       "2277775         62589522     3757   \n",
       "2277776         62589542      715   \n",
       "2277777         62589549      936   \n",
       "2277778         62589556     1031   \n",
       "\n",
       "                                        INCIDENT_TYPE_DESC  \\\n",
       "2277774                  300 - Rescue, EMS incident, other   \n",
       "2277775  735B - Unnecessary alarm/alarm system testing ...   \n",
       "2277776  745A - Unnecessary alarm/ordinary household ac...   \n",
       "2277777  735A - Unwarranted alarm/defective condition o...   \n",
       "2277778  735A - Unwarranted alarm/defective condition o...   \n",
       "\n",
       "             INCIDENT_DATE_TIME ARRIVAL_DATE_TIME  UNITS_ONSCENE  \\\n",
       "2277774  12/27/2017 12:06:29 PM               NaN            NaN   \n",
       "2277775  12/27/2017 12:08:21 PM               NaN            NaN   \n",
       "2277776  12/27/2017 12:05:10 PM               NaN            NaN   \n",
       "2277777  12/27/2017 12:13:40 PM               NaN            NaN   \n",
       "2277778  12/27/2017 12:19:51 PM               NaN            NaN   \n",
       "\n",
       "        LAST_UNIT_CLEARED_DATE_TIME  \\\n",
       "2277774      12/27/2017 12:23:57 PM   \n",
       "2277775      12/27/2017 12:25:33 PM   \n",
       "2277776      12/27/2017 12:32:09 PM   \n",
       "2277777      12/27/2017 12:25:36 PM   \n",
       "2277778      12/27/2017 12:39:15 PM   \n",
       "\n",
       "                                        HIGHEST_LEVEL_DESC  \\\n",
       "2277774  1 - More than initial alarm, less than Signal 7-5   \n",
       "2277775  1 - More than initial alarm, less than Signal 7-5   \n",
       "2277776  1 - More than initial alarm, less than Signal 7-5   \n",
       "2277777  1 - More than initial alarm, less than Signal 7-5   \n",
       "2277778  1 - More than initial alarm, less than Signal 7-5   \n",
       "\n",
       "         TOTAL_INCIDENT_DURATION        ACTION_TAKEN1_DESC    ...     \\\n",
       "2277774                   1048.0  00 - Action taken, other    ...      \n",
       "2277775                   1032.0          86 - Investigate    ...      \n",
       "2277776                   1619.0          86 - Investigate    ...      \n",
       "2277777                    716.0          86 - Investigate    ...      \n",
       "2277778                   1164.0          86 - Investigate    ...      \n",
       "\n",
       "        CO_DETECTOR_PRESENT_DESC FIRE_ORIGIN_BELOW_GRADE_FLAG  \\\n",
       "2277774                      NaN                          NaN   \n",
       "2277775                      NaN                          NaN   \n",
       "2277776                      NaN                          NaN   \n",
       "2277777                      NaN                          NaN   \n",
       "2277778                      NaN                          NaN   \n",
       "\n",
       "        STORY_FIRE_ORIGIN_COUNT FIRE_SPREAD_DESC DETECTOR_PRESENCE_DESC  \\\n",
       "2277774                     NaN              NaN                    NaN   \n",
       "2277775                     NaN              NaN                    NaN   \n",
       "2277776                     NaN              NaN                    NaN   \n",
       "2277777                     NaN              NaN                    NaN   \n",
       "2277778                     NaN              NaN                    NaN   \n",
       "\n",
       "        AES_PRESENCE_DESC STANDPIPE_SYS_PRESENT_FLAG distribution_times  \\\n",
       "2277774               NaN                        NaN                NaT   \n",
       "2277775               NaN                        NaN                NaT   \n",
       "2277776               NaN                        NaN                NaT   \n",
       "2277777               NaN                        NaN                NaT   \n",
       "2277778               NaN                        NaN                NaT   \n",
       "\n",
       "                       Time      Hour  \n",
       "2277774 2017-12-27 12:06:29  12:06:29  \n",
       "2277775 2017-12-27 12:08:21  12:08:21  \n",
       "2277776 2017-12-27 12:05:10  12:05:10  \n",
       "2277777 2017-12-27 12:13:40  12:13:40  \n",
       "2277778 2017-12-27 12:19:51  12:19:51  \n",
       "\n",
       "[5 rows x 27 columns]"
      ]
     },
     "execution_count": 109,
     "metadata": {},
     "output_type": "execute_result"
    }
   ],
   "source": [
    "df.tail()"
   ]
  },
  {
   "cell_type": "code",
   "execution_count": 26,
   "metadata": {},
   "outputs": [
    {
     "data": {
      "text/plain": [
       "IM_INCIDENT_KEY                 2277779\n",
       "FIRE_BOX                        2277770\n",
       "INCIDENT_TYPE_DESC              2277779\n",
       "INCIDENT_DATE_TIME              2277779\n",
       "ARRIVAL_DATE_TIME               2222561\n",
       "UNITS_ONSCENE                   2222367\n",
       "LAST_UNIT_CLEARED_DATE_TIME     2277777\n",
       "HIGHEST_LEVEL_DESC              2277640\n",
       "TOTAL_INCIDENT_DURATION         2277643\n",
       "ACTION_TAKEN1_DESC              2277779\n",
       "ACTION_TAKEN2_DESC               480698\n",
       "ACTION_TAKEN3_DESC               222052\n",
       "PROPERTY_USE_DESC               2277773\n",
       "STREET_HIGHWAY                  2239622\n",
       "ZIP_CODE                        2277771\n",
       "BOROUGH_DESC                    2277779\n",
       "FLOOR                            487407\n",
       "CO_DETECTOR_PRESENT_DESC          29675\n",
       "FIRE_ORIGIN_BELOW_GRADE_FLAG       1909\n",
       "STORY_FIRE_ORIGIN_COUNT           13119\n",
       "FIRE_SPREAD_DESC                  13118\n",
       "DETECTOR_PRESENCE_DESC            13117\n",
       "AES_PRESENCE_DESC                 13117\n",
       "STANDPIPE_SYS_PRESENT_FLAG        13121\n",
       "dtype: int64"
      ]
     },
     "execution_count": 26,
     "metadata": {},
     "output_type": "execute_result"
    }
   ],
   "source": [
    "df.count()"
   ]
  },
  {
   "cell_type": "code",
   "execution_count": 16,
   "metadata": {
    "scrolled": true
   },
   "outputs": [
    {
     "name": "stdout",
     "output_type": "stream",
     "text": [
      "0.3614828304238471\n"
     ]
    }
   ],
   "source": [
    "#What proportion of FDNY responses in this dataset correspond to the most common type of incident?\n",
    "m = df.INCIDENT_TYPE_DESC.value_counts().max()/df.shape[0]\n",
    "print(m)"
   ]
  },
  {
   "cell_type": "code",
   "execution_count": 33,
   "metadata": {},
   "outputs": [
    {
     "name": "stdout",
     "output_type": "stream",
     "text": [
      "2.7597595139775324\n"
     ]
    }
   ],
   "source": [
    "#What is the ratio of the average number of units that arrive to a scene of an incident classified as '111 - Building fire' \n",
    "#to the number that arrive for '651 - Smoke scare, odor of smoke'?\n",
    "ratio = df[df['INCIDENT_TYPE_DESC'] == '111 - Building fire']['UNITS_ONSCENE'].mean() / df[df['INCIDENT_TYPE_DESC'] == '651 - Smoke scare, odor of smoke']['UNITS_ONSCENE'].mean()\n",
    "print(ratio)"
   ]
  },
  {
   "cell_type": "code",
   "execution_count": 41,
   "metadata": {},
   "outputs": [
    {
     "data": {
      "text/plain": [
       "4 - Brooklyn         32110\n",
       "2 - Bronx            26467\n",
       "5 - Queens           25771\n",
       "1 - Manhattan        25240\n",
       "3 - Staten Island     8276\n",
       "Name: BOROUGH_DESC, dtype: int64"
      ]
     },
     "execution_count": 41,
     "metadata": {},
     "output_type": "execute_result"
    }
   ],
   "source": [
    "#the ratio of Staten Island false call rate to Manhattan false call rate.\n",
    "df[(df['INCIDENT_TYPE_DESC'] == '710 - Malicious, mischievous false call, other')]['BOROUGH_DESC'].value_counts()"
   ]
  },
  {
   "cell_type": "code",
   "execution_count": 348,
   "metadata": {},
   "outputs": [
    {
     "name": "stdout",
     "output_type": "stream",
     "text": [
      "0.3278922345\n"
     ]
    }
   ],
   "source": [
    "ratio = 8276/25240\n",
    "print(round(ratio,10))"
   ]
  },
  {
   "cell_type": "code",
   "execution_count": 48,
   "metadata": {},
   "outputs": [],
   "source": [
    "import time"
   ]
  },
  {
   "cell_type": "code",
   "execution_count": 64,
   "metadata": {},
   "outputs": [],
   "source": [
    "df['distribution_times'] = pd.to_datetime(df['ARRIVAL_DATE_TIME']) - pd.to_datetime(df['INCIDENT_DATE_TIME'])"
   ]
  },
  {
   "cell_type": "code",
   "execution_count": 89,
   "metadata": {},
   "outputs": [],
   "source": [
    "df['Time'] = pd.to_datetime(df['INCIDENT_DATE_TIME'])"
   ]
  },
  {
   "cell_type": "code",
   "execution_count": 106,
   "metadata": {
    "scrolled": true
   },
   "outputs": [],
   "source": [
    "from datetime import datetime\n",
    "df['Hour'] = df['Time'].dt.time"
   ]
  },
  {
   "cell_type": "code",
   "execution_count": 123,
   "metadata": {},
   "outputs": [],
   "source": [
    "def hr_func(ts):\n",
    "    return ts.hour"
   ]
  },
  {
   "cell_type": "code",
   "execution_count": 125,
   "metadata": {},
   "outputs": [],
   "source": [
    "df['Hour'] = df['Time'].apply(hr_func)"
   ]
  },
  {
   "cell_type": "code",
   "execution_count": 77,
   "metadata": {},
   "outputs": [
    {
     "data": {
      "text/html": [
       "<div>\n",
       "<style scoped>\n",
       "    .dataframe tbody tr th:only-of-type {\n",
       "        vertical-align: middle;\n",
       "    }\n",
       "\n",
       "    .dataframe tbody tr th {\n",
       "        vertical-align: top;\n",
       "    }\n",
       "\n",
       "    .dataframe thead th {\n",
       "        text-align: right;\n",
       "    }\n",
       "</style>\n",
       "<table border=\"1\" class=\"dataframe\">\n",
       "  <thead>\n",
       "    <tr style=\"text-align: right;\">\n",
       "      <th></th>\n",
       "      <th>distribution_times</th>\n",
       "    </tr>\n",
       "  </thead>\n",
       "  <tbody>\n",
       "    <tr>\n",
       "      <th>count</th>\n",
       "      <td>2222561</td>\n",
       "    </tr>\n",
       "    <tr>\n",
       "      <th>mean</th>\n",
       "      <td>0 days 00:05:05.505618</td>\n",
       "    </tr>\n",
       "    <tr>\n",
       "      <th>std</th>\n",
       "      <td>0 days 00:12:09.148359</td>\n",
       "    </tr>\n",
       "    <tr>\n",
       "      <th>min</th>\n",
       "      <td>-1 days +22:15:18</td>\n",
       "    </tr>\n",
       "    <tr>\n",
       "      <th>25%</th>\n",
       "      <td>0 days 00:03:38</td>\n",
       "    </tr>\n",
       "    <tr>\n",
       "      <th>50%</th>\n",
       "      <td>0 days 00:04:34</td>\n",
       "    </tr>\n",
       "    <tr>\n",
       "      <th>75%</th>\n",
       "      <td>0 days 00:05:44</td>\n",
       "    </tr>\n",
       "    <tr>\n",
       "      <th>max</th>\n",
       "      <td>6 days 22:44:58</td>\n",
       "    </tr>\n",
       "  </tbody>\n",
       "</table>\n",
       "</div>"
      ],
      "text/plain": [
       "           distribution_times\n",
       "count                 2222561\n",
       "mean   0 days 00:05:05.505618\n",
       "std    0 days 00:12:09.148359\n",
       "min         -1 days +22:15:18\n",
       "25%           0 days 00:03:38\n",
       "50%           0 days 00:04:34\n",
       "75%           0 days 00:05:44\n",
       "max           6 days 22:44:58"
      ]
     },
     "execution_count": 77,
     "metadata": {},
     "output_type": "execute_result"
    }
   ],
   "source": [
    "df[['distribution_times']].describe()"
   ]
  },
  {
   "cell_type": "code",
   "execution_count": 127,
   "metadata": {},
   "outputs": [
    {
     "data": {
      "text/plain": [
       "5.733333333333333"
      ]
     },
     "execution_count": 127,
     "metadata": {},
     "output_type": "execute_result"
    }
   ],
   "source": [
    "5+44/60"
   ]
  },
  {
   "cell_type": "code",
   "execution_count": 161,
   "metadata": {},
   "outputs": [
    {
     "data": {
      "text/plain": [
       "18    6806\n",
       "17    6541\n",
       "19    6456\n",
       "16    5680\n",
       "20    5451\n",
       "15    5150\n",
       "12    5000\n",
       "14    4979\n",
       "13    4963\n",
       "11    4464\n",
       "21    4284\n",
       "10    3983\n",
       "9     3503\n",
       "22    3140\n",
       "8     2818\n",
       "23    2530\n",
       "0     2047\n",
       "7     2007\n",
       "1     1571\n",
       "6     1455\n",
       "2     1203\n",
       "3     1059\n",
       "5      998\n",
       "4      951\n",
       "Name: Hour, dtype: int64"
      ]
     },
     "execution_count": 161,
     "metadata": {},
     "output_type": "execute_result"
    }
   ],
   "source": [
    "# Find the hour of the day that has the highest proportion of cooking fires and submit that proportion of cooking fires. \n",
    "df1 = df[df['INCIDENT_TYPE_DESC'] == '113 - Cooking fire, confined to container']"
   ]
  },
  {
   "cell_type": "code",
   "execution_count": 166,
   "metadata": {},
   "outputs": [
    {
     "data": {
      "text/plain": [
       "Hour\n",
       "0     2047\n",
       "1     1571\n",
       "2     1203\n",
       "3     1059\n",
       "4      951\n",
       "5      998\n",
       "6     1455\n",
       "7     2007\n",
       "8     2818\n",
       "9     3503\n",
       "10    3983\n",
       "11    4464\n",
       "12    5000\n",
       "13    4963\n",
       "14    4979\n",
       "15    5150\n",
       "16    5680\n",
       "17    6541\n",
       "18    6806\n",
       "19    6456\n",
       "20    5451\n",
       "21    4284\n",
       "22    3140\n",
       "23    2530\n",
       "Name: INCIDENT_TYPE_DESC, dtype: int64"
      ]
     },
     "execution_count": 166,
     "metadata": {},
     "output_type": "execute_result"
    }
   ],
   "source": [
    "ds = df1.groupby('Hour').count()\n",
    "ds['INCIDENT_TYPE_DESC']"
   ]
  },
  {
   "cell_type": "code",
   "execution_count": 167,
   "metadata": {},
   "outputs": [
    {
     "name": "stdout",
     "output_type": "stream",
     "text": [
      "Hour\n",
      "0     0.028577\n",
      "1     0.027372\n",
      "2     0.025553\n",
      "3     0.025634\n",
      "4     0.023980\n",
      "5     0.023848\n",
      "6     0.027909\n",
      "7     0.027618\n",
      "8     0.030831\n",
      "9     0.034045\n",
      "10    0.036387\n",
      "11    0.039182\n",
      "12    0.042661\n",
      "13    0.040711\n",
      "14    0.039511\n",
      "15    0.040740\n",
      "16    0.044270\n",
      "17    0.047996\n",
      "18    0.050847\n",
      "19    0.050522\n",
      "20    0.045150\n",
      "21    0.038825\n",
      "22    0.031701\n",
      "23    0.028596\n",
      "Name: INCIDENT_TYPE_DESC, dtype: float64\n"
     ]
    }
   ],
   "source": [
    "DS = df.groupby('Hour').count()\n",
    "rate = ds['INCIDENT_TYPE_DESC']/DS['INCIDENT_TYPE_DESC']\n",
    "print(rate)"
   ]
  },
  {
   "cell_type": "code",
   "execution_count": 142,
   "metadata": {},
   "outputs": [
    {
     "name": "stdout",
     "output_type": "stream",
     "text": [
      "0.0508468245\n"
     ]
    }
   ],
   "source": [
    "rate = round(6806/133853,10)\n",
    "print(rate)"
   ]
  },
  {
   "cell_type": "code",
   "execution_count": 193,
   "metadata": {
    "scrolled": true
   },
   "outputs": [],
   "source": [
    "#the coefficient of determination (R squared) between the number of residents at each zip code and the number of inicidents \n",
    "#whose type is classified as '111 - Building fire' at each of those zip codes. \n",
    "#ds1 = df[df['INCIDENT_TYPE_DESC'] == '111 - Building fire'].groupby('ZIP_CODE').count()"
   ]
  },
  {
   "cell_type": "code",
   "execution_count": 199,
   "metadata": {},
   "outputs": [],
   "source": [
    "ds1 = df[df['INCIDENT_TYPE_DESC'] == '111 - Building fire']"
   ]
  },
  {
   "cell_type": "code",
   "execution_count": 244,
   "metadata": {},
   "outputs": [],
   "source": [
    "ds11= ds1[['ZIP_CODE','INCIDENT_TYPE_DESC']]"
   ]
  },
  {
   "cell_type": "code",
   "execution_count": 245,
   "metadata": {},
   "outputs": [
    {
     "name": "stderr",
     "output_type": "stream",
     "text": [
      "C:\\Users\\Yuan\\Anaconda3\\lib\\site-packages\\ipykernel_launcher.py:1: SettingWithCopyWarning: \n",
      "A value is trying to be set on a copy of a slice from a DataFrame.\n",
      "Try using .loc[row_indexer,col_indexer] = value instead\n",
      "\n",
      "See the caveats in the documentation: http://pandas.pydata.org/pandas-docs/stable/indexing.html#indexing-view-versus-copy\n",
      "  \"\"\"Entry point for launching an IPython kernel.\n"
     ]
    }
   ],
   "source": [
    "ds11['ZIP_CODE'] = ds11['ZIP_CODE'].astype(int)"
   ]
  },
  {
   "cell_type": "code",
   "execution_count": 178,
   "metadata": {},
   "outputs": [],
   "source": [
    "cencus = pd.read_csv('./2010+Census+Population+By+Zipcode+(ZCTA).csv')"
   ]
  },
  {
   "cell_type": "code",
   "execution_count": 285,
   "metadata": {},
   "outputs": [
    {
     "data": {
      "text/html": [
       "<div>\n",
       "<style scoped>\n",
       "    .dataframe tbody tr th:only-of-type {\n",
       "        vertical-align: middle;\n",
       "    }\n",
       "\n",
       "    .dataframe tbody tr th {\n",
       "        vertical-align: top;\n",
       "    }\n",
       "\n",
       "    .dataframe thead th {\n",
       "        text-align: right;\n",
       "    }\n",
       "</style>\n",
       "<table border=\"1\" class=\"dataframe\">\n",
       "  <thead>\n",
       "    <tr style=\"text-align: right;\">\n",
       "      <th></th>\n",
       "      <th>ZIP_CODE</th>\n",
       "      <th>2010 Census Population</th>\n",
       "    </tr>\n",
       "  </thead>\n",
       "  <tbody>\n",
       "    <tr>\n",
       "      <th>2429</th>\n",
       "      <td>10001</td>\n",
       "      <td>21102</td>\n",
       "    </tr>\n",
       "  </tbody>\n",
       "</table>\n",
       "</div>"
      ],
      "text/plain": [
       "      ZIP_CODE  2010 Census Population\n",
       "2429     10001                   21102"
      ]
     },
     "execution_count": 285,
     "metadata": {},
     "output_type": "execute_result"
    }
   ],
   "source": [
    "cencus[cencus['ZIP_CODE'] == 10001]"
   ]
  },
  {
   "cell_type": "code",
   "execution_count": 214,
   "metadata": {
    "scrolled": true
   },
   "outputs": [
    {
     "name": "stdout",
     "output_type": "stream",
     "text": [
      "<class 'pandas.core.frame.DataFrame'>\n",
      "RangeIndex: 33092 entries, 0 to 33091\n",
      "Data columns (total 2 columns):\n",
      "ZIP_CODE                  33092 non-null int64\n",
      "2010 Census Population    33092 non-null int64\n",
      "dtypes: int64(2)\n",
      "memory usage: 517.1 KB\n"
     ]
    }
   ],
   "source": [
    "cencus.info()"
   ]
  },
  {
   "cell_type": "code",
   "execution_count": 246,
   "metadata": {},
   "outputs": [
    {
     "data": {
      "text/plain": [
       "(Index(['ZIP_CODE', 'INCIDENT_TYPE_DESC'], dtype='object'),\n",
       " Index(['ZIP_CODE', '2010 Census Population'], dtype='object'))"
      ]
     },
     "execution_count": 246,
     "metadata": {},
     "output_type": "execute_result"
    }
   ],
   "source": [
    "ds11.columns, cencus.columns"
   ]
  },
  {
   "cell_type": "code",
   "execution_count": 295,
   "metadata": {},
   "outputs": [
    {
     "name": "stderr",
     "output_type": "stream",
     "text": [
      "C:\\Users\\Yuan\\Anaconda3\\lib\\site-packages\\ipykernel_launcher.py:2: SettingWithCopyWarning: \n",
      "A value is trying to be set on a copy of a slice from a DataFrame.\n",
      "Try using .loc[row_indexer,col_indexer] = value instead\n",
      "\n",
      "See the caveats in the documentation: http://pandas.pydata.org/pandas-docs/stable/indexing.html#indexing-view-versus-copy\n",
      "  \n"
     ]
    }
   ],
   "source": [
    "temp = ds11.groupby('ZIP_CODE').count()\n"
   ]
  },
  {
   "cell_type": "code",
   "execution_count": 312,
   "metadata": {},
   "outputs": [
    {
     "data": {
      "text/html": [
       "<div>\n",
       "<style scoped>\n",
       "    .dataframe tbody tr th:only-of-type {\n",
       "        vertical-align: middle;\n",
       "    }\n",
       "\n",
       "    .dataframe tbody tr th {\n",
       "        vertical-align: top;\n",
       "    }\n",
       "\n",
       "    .dataframe thead th {\n",
       "        text-align: right;\n",
       "    }\n",
       "</style>\n",
       "<table border=\"1\" class=\"dataframe\">\n",
       "  <thead>\n",
       "    <tr style=\"text-align: right;\">\n",
       "      <th></th>\n",
       "      <th>ZIP_CODE</th>\n",
       "      <th>COUNT</th>\n",
       "    </tr>\n",
       "  </thead>\n",
       "  <tbody>\n",
       "    <tr>\n",
       "      <th>0</th>\n",
       "      <td>10001</td>\n",
       "      <td>83</td>\n",
       "    </tr>\n",
       "    <tr>\n",
       "      <th>1</th>\n",
       "      <td>10002</td>\n",
       "      <td>114</td>\n",
       "    </tr>\n",
       "    <tr>\n",
       "      <th>2</th>\n",
       "      <td>10003</td>\n",
       "      <td>82</td>\n",
       "    </tr>\n",
       "    <tr>\n",
       "      <th>3</th>\n",
       "      <td>10004</td>\n",
       "      <td>8</td>\n",
       "    </tr>\n",
       "    <tr>\n",
       "      <th>4</th>\n",
       "      <td>10005</td>\n",
       "      <td>5</td>\n",
       "    </tr>\n",
       "  </tbody>\n",
       "</table>\n",
       "</div>"
      ],
      "text/plain": [
       "   ZIP_CODE  COUNT\n",
       "0     10001     83\n",
       "1     10002    114\n",
       "2     10003     82\n",
       "3     10004      8\n",
       "4     10005      5"
      ]
     },
     "execution_count": 312,
     "metadata": {},
     "output_type": "execute_result"
    }
   ],
   "source": [
    "res = pd.DataFrame({'ZIP_CODE': sorted(ds11['ZIP_CODE'].unique()),'COUNT': temp['INCIDENT_TYPE_DESC'].values})\n",
    "res.head()"
   ]
  },
  {
   "cell_type": "code",
   "execution_count": 313,
   "metadata": {},
   "outputs": [],
   "source": [
    "data = pd.merge(res,cencus, how='left',on='ZIP_CODE')"
   ]
  },
  {
   "cell_type": "code",
   "execution_count": 317,
   "metadata": {},
   "outputs": [
    {
     "data": {
      "text/plain": [
       "Index(['ZIP_CODE', 'COUNT', '2010 Census Population'], dtype='object')"
      ]
     },
     "execution_count": 317,
     "metadata": {},
     "output_type": "execute_result"
    }
   ],
   "source": [
    "data.columns"
   ]
  },
  {
   "cell_type": "code",
   "execution_count": 319,
   "metadata": {},
   "outputs": [],
   "source": [
    "data.dropna(inplace=True)"
   ]
  },
  {
   "cell_type": "code",
   "execution_count": 325,
   "metadata": {},
   "outputs": [
    {
     "data": {
      "text/plain": [
       "(173, 3)"
      ]
     },
     "execution_count": 325,
     "metadata": {},
     "output_type": "execute_result"
    }
   ],
   "source": [
    "data.shape"
   ]
  },
  {
   "cell_type": "code",
   "execution_count": 263,
   "metadata": {},
   "outputs": [],
   "source": [
    "from sklearn.metrics import r2_score"
   ]
  },
  {
   "cell_type": "code",
   "execution_count": 352,
   "metadata": {},
   "outputs": [
    {
     "data": {
      "text/plain": [
       "3.2150888973"
      ]
     },
     "execution_count": 352,
     "metadata": {},
     "output_type": "execute_result"
    }
   ],
   "source": [
    "round(-r2_score(data['2010 Census Population'],data['COUNT']),10)"
   ]
  },
  {
   "cell_type": "code",
   "execution_count": 328,
   "metadata": {},
   "outputs": [
    {
     "data": {
      "text/plain": [
       "N - None present    9358\n",
       "1 - Present         3759\n",
       "Name: DETECTOR_PRESENCE_DESC, dtype: int64"
      ]
     },
     "execution_count": 328,
     "metadata": {},
     "output_type": "execute_result"
    }
   ],
   "source": [
    "#CO Detector present or not\n",
    "df['DETECTOR_PRESENCE_DESC'].value_counts()"
   ]
  },
  {
   "cell_type": "code",
   "execution_count": 336,
   "metadata": {},
   "outputs": [],
   "source": [
    "df_CO = df[['DETECTOR_PRESENCE_DESC','TOTAL_INCIDENT_DURATION']]"
   ]
  },
  {
   "cell_type": "code",
   "execution_count": 346,
   "metadata": {},
   "outputs": [
    {
     "name": "stderr",
     "output_type": "stream",
     "text": [
      "C:\\Users\\Yuan\\Anaconda3\\lib\\site-packages\\ipykernel_launcher.py:1: SettingWithCopyWarning: \n",
      "A value is trying to be set on a copy of a slice from a DataFrame\n",
      "\n",
      "See the caveats in the documentation: http://pandas.pydata.org/pandas-docs/stable/indexing.html#indexing-view-versus-copy\n",
      "  \"\"\"Entry point for launching an IPython kernel.\n"
     ]
    }
   ],
   "source": [
    "df_CO.dropna(inplace=True)"
   ]
  },
  {
   "cell_type": "code",
   "execution_count": 347,
   "metadata": {},
   "outputs": [
    {
     "name": "stdout",
     "output_type": "stream",
     "text": [
      "<class 'pandas.core.frame.DataFrame'>\n",
      "Int64Index: 12998 entries, 90 to 2276808\n",
      "Data columns (total 2 columns):\n",
      "DETECTOR_PRESENCE_DESC     12998 non-null object\n",
      "TOTAL_INCIDENT_DURATION    12998 non-null float64\n",
      "dtypes: float64(1), object(1)\n",
      "memory usage: 304.6+ KB\n"
     ]
    }
   ],
   "source": [
    "df_CO.info()"
   ]
  },
  {
   "cell_type": "code",
   "execution_count": 376,
   "metadata": {},
   "outputs": [
    {
     "data": {
      "text/plain": [
       "(12998, 3)"
      ]
     },
     "execution_count": 376,
     "metadata": {},
     "output_type": "execute_result"
    }
   ],
   "source": [
    "df_CO.shape"
   ]
  },
  {
   "cell_type": "code",
   "execution_count": 354,
   "metadata": {},
   "outputs": [
    {
     "name": "stderr",
     "output_type": "stream",
     "text": [
      "C:\\Users\\Yuan\\Anaconda3\\lib\\site-packages\\ipykernel_launcher.py:1: SettingWithCopyWarning: \n",
      "A value is trying to be set on a copy of a slice from a DataFrame.\n",
      "Try using .loc[row_indexer,col_indexer] = value instead\n",
      "\n",
      "See the caveats in the documentation: http://pandas.pydata.org/pandas-docs/stable/indexing.html#indexing-view-versus-copy\n",
      "  \"\"\"Entry point for launching an IPython kernel.\n"
     ]
    }
   ],
   "source": [
    "df_CO['Duration'] = df['TOTAL_INCIDENT_DURATION']/60"
   ]
  },
  {
   "cell_type": "code",
   "execution_count": 359,
   "metadata": {},
   "outputs": [],
   "source": [
    "#Calculate the chi-square test statistic for testing whether an incident is more likely to last longer than 60 minutes when CO detector is not present. \n",
    "#Again only consider incidents that have information about whether a CO detector was present or not."
   ]
  },
  {
   "cell_type": "code",
   "execution_count": 363,
   "metadata": {},
   "outputs": [],
   "source": [
    "s1 = df_CO[df_CO['DETECTOR_PRESENCE_DESC'] == 'N - None present']['Duration']\n",
    "s2 = df_CO[df_CO['DETECTOR_PRESENCE_DESC'] == '1 - Present']['Duration']"
   ]
  },
  {
   "cell_type": "code",
   "execution_count": 372,
   "metadata": {},
   "outputs": [],
   "source": [
    "from scipy.stats import chi2"
   ]
  },
  {
   "cell_type": "code",
   "execution_count": 396,
   "metadata": {},
   "outputs": [],
   "source": [
    "chi_squared_stat = (((s1.values-60)**2)/60).sum()"
   ]
  },
  {
   "cell_type": "code",
   "execution_count": 397,
   "metadata": {},
   "outputs": [
    {
     "name": "stdout",
     "output_type": "stream",
     "text": [
      "10346742.806907408\n"
     ]
    }
   ],
   "source": [
    "print(chi_squared_stat)"
   ]
  },
  {
   "cell_type": "code",
   "execution_count": 387,
   "metadata": {},
   "outputs": [],
   "source": [
    "crit = chi2.ppf(q = 0.95, # Find the critical value for 95% confidence*\n",
    "                      df = 1)   # Df = number of variable categories - 1"
   ]
  },
  {
   "cell_type": "code",
   "execution_count": 388,
   "metadata": {},
   "outputs": [
    {
     "name": "stdout",
     "output_type": "stream",
     "text": [
      "Critical value\n",
      "3.841458820694124\n",
      "P value\n",
      "0.0\n"
     ]
    }
   ],
   "source": [
    "print(\"Critical value\")\n",
    "print(crit)\n",
    "\n",
    "p_value = 1 - chi2.cdf(x=chi_squared_stat,  # Find the p-value\n",
    "                             df=1)\n",
    "print(\"P value\")\n",
    "print(p_value)"
   ]
  },
  {
   "cell_type": "markdown",
   "metadata": {},
   "source": [
    "## "
   ]
  }
 ],
 "metadata": {
  "kernelspec": {
   "display_name": "Python 3",
   "language": "python",
   "name": "python3"
  },
  "language_info": {
   "codemirror_mode": {
    "name": "ipython",
    "version": 3
   },
   "file_extension": ".py",
   "mimetype": "text/x-python",
   "name": "python",
   "nbconvert_exporter": "python",
   "pygments_lexer": "ipython3",
   "version": "3.6.5"
  }
 },
 "nbformat": 4,
 "nbformat_minor": 2
}

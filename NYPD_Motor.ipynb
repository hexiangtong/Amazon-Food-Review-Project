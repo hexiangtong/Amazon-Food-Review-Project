{
 "cells": [
  {
   "cell_type": "code",
   "execution_count": 1,
   "metadata": {},
   "outputs": [],
   "source": [
    "import pandas as pd\n",
    "import numpy as np\n",
    "import matplotlib.pyplot as plt\n",
    "import seaborn as sns\n",
    "from datetime import datetime"
   ]
  },
  {
   "cell_type": "code",
   "execution_count": 2,
   "metadata": {},
   "outputs": [
    {
     "name": "stderr",
     "output_type": "stream",
     "text": [
      "/Users/zhouy2/anaconda3/lib/python3.7/site-packages/IPython/core/interactiveshell.py:3020: DtypeWarning: Columns (3) have mixed types. Specify dtype option on import or set low_memory=False.\n",
      "  interactivity=interactivity, compiler=compiler, result=result)\n"
     ]
    }
   ],
   "source": [
    "df = pd.read_csv('./NYPD_Motor_Vehicle_Collisions.csv')"
   ]
  },
  {
   "cell_type": "code",
   "execution_count": 3,
   "metadata": {},
   "outputs": [
    {
     "name": "stdout",
     "output_type": "stream",
     "text": [
      "<class 'pandas.core.frame.DataFrame'>\n",
      "RangeIndex: 1486791 entries, 0 to 1486790\n",
      "Data columns (total 29 columns):\n",
      "DATE                             1486791 non-null object\n",
      "TIME                             1486791 non-null object\n",
      "BOROUGH                          1041808 non-null object\n",
      "ZIP CODE                         1041633 non-null object\n",
      "LATITUDE                         1300317 non-null float64\n",
      "LONGITUDE                        1300317 non-null float64\n",
      "LOCATION                         1300317 non-null object\n",
      "ON STREET NAME                   1201198 non-null object\n",
      "CROSS STREET NAME                1010379 non-null object\n",
      "OFF STREET NAME                  193440 non-null object\n",
      "NUMBER OF PERSONS INJURED        1486774 non-null float64\n",
      "NUMBER OF PERSONS KILLED         1486760 non-null float64\n",
      "NUMBER OF PEDESTRIANS INJURED    1486791 non-null int64\n",
      "NUMBER OF PEDESTRIANS KILLED     1486791 non-null int64\n",
      "NUMBER OF CYCLIST INJURED        1486791 non-null int64\n",
      "NUMBER OF CYCLIST KILLED         1486791 non-null int64\n",
      "NUMBER OF MOTORIST INJURED       1486791 non-null int64\n",
      "NUMBER OF MOTORIST KILLED        1486791 non-null int64\n",
      "CONTRIBUTING FACTOR VEHICLE 1    1482939 non-null object\n",
      "CONTRIBUTING FACTOR VEHICLE 2    1288897 non-null object\n",
      "CONTRIBUTING FACTOR VEHICLE 3    95725 non-null object\n",
      "CONTRIBUTING FACTOR VEHICLE 4    19885 non-null object\n",
      "CONTRIBUTING FACTOR VEHICLE 5    5063 non-null object\n",
      "UNIQUE KEY                       1486791 non-null int64\n",
      "VEHICLE TYPE CODE 1              1482112 non-null object\n",
      "VEHICLE TYPE CODE 2              1246307 non-null object\n",
      "VEHICLE TYPE CODE 3              125199 non-null object\n",
      "VEHICLE TYPE CODE 4              47751 non-null object\n",
      "VEHICLE TYPE CODE 5              10180 non-null object\n",
      "dtypes: float64(4), int64(7), object(18)\n",
      "memory usage: 329.0+ MB\n"
     ]
    }
   ],
   "source": [
    "df.info()"
   ]
  },
  {
   "cell_type": "code",
   "execution_count": 4,
   "metadata": {},
   "outputs": [
    {
     "data": {
      "text/html": [
       "<div>\n",
       "<style scoped>\n",
       "    .dataframe tbody tr th:only-of-type {\n",
       "        vertical-align: middle;\n",
       "    }\n",
       "\n",
       "    .dataframe tbody tr th {\n",
       "        vertical-align: top;\n",
       "    }\n",
       "\n",
       "    .dataframe thead th {\n",
       "        text-align: right;\n",
       "    }\n",
       "</style>\n",
       "<table border=\"1\" class=\"dataframe\">\n",
       "  <thead>\n",
       "    <tr style=\"text-align: right;\">\n",
       "      <th></th>\n",
       "      <th>DATE</th>\n",
       "      <th>TIME</th>\n",
       "      <th>BOROUGH</th>\n",
       "      <th>ZIP CODE</th>\n",
       "      <th>LATITUDE</th>\n",
       "      <th>LONGITUDE</th>\n",
       "      <th>LOCATION</th>\n",
       "      <th>ON STREET NAME</th>\n",
       "      <th>CROSS STREET NAME</th>\n",
       "      <th>OFF STREET NAME</th>\n",
       "      <th>...</th>\n",
       "      <th>CONTRIBUTING FACTOR VEHICLE 2</th>\n",
       "      <th>CONTRIBUTING FACTOR VEHICLE 3</th>\n",
       "      <th>CONTRIBUTING FACTOR VEHICLE 4</th>\n",
       "      <th>CONTRIBUTING FACTOR VEHICLE 5</th>\n",
       "      <th>UNIQUE KEY</th>\n",
       "      <th>VEHICLE TYPE CODE 1</th>\n",
       "      <th>VEHICLE TYPE CODE 2</th>\n",
       "      <th>VEHICLE TYPE CODE 3</th>\n",
       "      <th>VEHICLE TYPE CODE 4</th>\n",
       "      <th>VEHICLE TYPE CODE 5</th>\n",
       "    </tr>\n",
       "  </thead>\n",
       "  <tbody>\n",
       "    <tr>\n",
       "      <th>0</th>\n",
       "      <td>04/29/2019</td>\n",
       "      <td>0:00</td>\n",
       "      <td>BRONX</td>\n",
       "      <td>10453</td>\n",
       "      <td>40.848440</td>\n",
       "      <td>-73.91068</td>\n",
       "      <td>(40.84844, -73.91068)</td>\n",
       "      <td>TOWNSEND AVENUE</td>\n",
       "      <td>EAST 176 STREET</td>\n",
       "      <td>NaN</td>\n",
       "      <td>...</td>\n",
       "      <td>Unspecified</td>\n",
       "      <td>NaN</td>\n",
       "      <td>NaN</td>\n",
       "      <td>NaN</td>\n",
       "      <td>4122943</td>\n",
       "      <td>Sedan</td>\n",
       "      <td>Station Wagon/Sport Utility Vehicle</td>\n",
       "      <td>NaN</td>\n",
       "      <td>NaN</td>\n",
       "      <td>NaN</td>\n",
       "    </tr>\n",
       "    <tr>\n",
       "      <th>1</th>\n",
       "      <td>04/29/2019</td>\n",
       "      <td>0:00</td>\n",
       "      <td>QUEENS</td>\n",
       "      <td>11365</td>\n",
       "      <td>40.736595</td>\n",
       "      <td>-73.80013</td>\n",
       "      <td>(40.736595, -73.80013)</td>\n",
       "      <td>169 STREET</td>\n",
       "      <td>65 AVENUE</td>\n",
       "      <td>NaN</td>\n",
       "      <td>...</td>\n",
       "      <td>Unspecified</td>\n",
       "      <td>NaN</td>\n",
       "      <td>NaN</td>\n",
       "      <td>NaN</td>\n",
       "      <td>4122788</td>\n",
       "      <td>Station Wagon/Sport Utility Vehicle</td>\n",
       "      <td>Sedan</td>\n",
       "      <td>NaN</td>\n",
       "      <td>NaN</td>\n",
       "      <td>NaN</td>\n",
       "    </tr>\n",
       "    <tr>\n",
       "      <th>2</th>\n",
       "      <td>04/29/2019</td>\n",
       "      <td>0:00</td>\n",
       "      <td>QUEENS</td>\n",
       "      <td>11374</td>\n",
       "      <td>40.730503</td>\n",
       "      <td>-73.86980</td>\n",
       "      <td>(40.730503, -73.8698)</td>\n",
       "      <td>ELIOT AVENUE</td>\n",
       "      <td>WETHEROLE STREET</td>\n",
       "      <td>NaN</td>\n",
       "      <td>...</td>\n",
       "      <td>NaN</td>\n",
       "      <td>NaN</td>\n",
       "      <td>NaN</td>\n",
       "      <td>NaN</td>\n",
       "      <td>4122525</td>\n",
       "      <td>Station Wagon/Sport Utility Vehicle</td>\n",
       "      <td>NaN</td>\n",
       "      <td>NaN</td>\n",
       "      <td>NaN</td>\n",
       "      <td>NaN</td>\n",
       "    </tr>\n",
       "    <tr>\n",
       "      <th>3</th>\n",
       "      <td>04/29/2019</td>\n",
       "      <td>0:00</td>\n",
       "      <td>QUEENS</td>\n",
       "      <td>11413</td>\n",
       "      <td>40.670630</td>\n",
       "      <td>-73.75643</td>\n",
       "      <td>(40.67063, -73.75643)</td>\n",
       "      <td>141 ROAD</td>\n",
       "      <td>SPRINGFIELD BOULEVARD</td>\n",
       "      <td>NaN</td>\n",
       "      <td>...</td>\n",
       "      <td>Unsafe Speed</td>\n",
       "      <td>Unspecified</td>\n",
       "      <td>Unspecified</td>\n",
       "      <td>NaN</td>\n",
       "      <td>4122775</td>\n",
       "      <td>Pick-up Truck</td>\n",
       "      <td>Sedan</td>\n",
       "      <td>Station Wagon/Sport Utility Vehicle</td>\n",
       "      <td>Sedan</td>\n",
       "      <td>NaN</td>\n",
       "    </tr>\n",
       "    <tr>\n",
       "      <th>4</th>\n",
       "      <td>04/29/2019</td>\n",
       "      <td>0:00</td>\n",
       "      <td>NaN</td>\n",
       "      <td>NaN</td>\n",
       "      <td>40.669796</td>\n",
       "      <td>-73.87057</td>\n",
       "      <td>(40.669796, -73.87057)</td>\n",
       "      <td>EUCLID AVENUE</td>\n",
       "      <td>NaN</td>\n",
       "      <td>NaN</td>\n",
       "      <td>...</td>\n",
       "      <td>Unspecified</td>\n",
       "      <td>NaN</td>\n",
       "      <td>NaN</td>\n",
       "      <td>NaN</td>\n",
       "      <td>4122913</td>\n",
       "      <td>Pick-up Truck</td>\n",
       "      <td>NaN</td>\n",
       "      <td>NaN</td>\n",
       "      <td>NaN</td>\n",
       "      <td>NaN</td>\n",
       "    </tr>\n",
       "  </tbody>\n",
       "</table>\n",
       "<p>5 rows × 29 columns</p>\n",
       "</div>"
      ],
      "text/plain": [
       "         DATE  TIME BOROUGH ZIP CODE   LATITUDE  LONGITUDE  \\\n",
       "0  04/29/2019  0:00   BRONX    10453  40.848440  -73.91068   \n",
       "1  04/29/2019  0:00  QUEENS    11365  40.736595  -73.80013   \n",
       "2  04/29/2019  0:00  QUEENS    11374  40.730503  -73.86980   \n",
       "3  04/29/2019  0:00  QUEENS    11413  40.670630  -73.75643   \n",
       "4  04/29/2019  0:00     NaN      NaN  40.669796  -73.87057   \n",
       "\n",
       "                 LOCATION                    ON STREET NAME  \\\n",
       "0   (40.84844, -73.91068)  TOWNSEND AVENUE                    \n",
       "1  (40.736595, -73.80013)  169 STREET                         \n",
       "2   (40.730503, -73.8698)  ELIOT AVENUE                       \n",
       "3   (40.67063, -73.75643)  141 ROAD                           \n",
       "4  (40.669796, -73.87057)  EUCLID AVENUE                      \n",
       "\n",
       "       CROSS STREET NAME OFF STREET NAME         ...          \\\n",
       "0        EAST 176 STREET             NaN         ...           \n",
       "1              65 AVENUE             NaN         ...           \n",
       "2       WETHEROLE STREET             NaN         ...           \n",
       "3  SPRINGFIELD BOULEVARD             NaN         ...           \n",
       "4                    NaN             NaN         ...           \n",
       "\n",
       "   CONTRIBUTING FACTOR VEHICLE 2  CONTRIBUTING FACTOR VEHICLE 3  \\\n",
       "0                    Unspecified                            NaN   \n",
       "1                    Unspecified                            NaN   \n",
       "2                            NaN                            NaN   \n",
       "3                   Unsafe Speed                    Unspecified   \n",
       "4                    Unspecified                            NaN   \n",
       "\n",
       "   CONTRIBUTING FACTOR VEHICLE 4  CONTRIBUTING FACTOR VEHICLE 5  UNIQUE KEY  \\\n",
       "0                            NaN                            NaN     4122943   \n",
       "1                            NaN                            NaN     4122788   \n",
       "2                            NaN                            NaN     4122525   \n",
       "3                    Unspecified                            NaN     4122775   \n",
       "4                            NaN                            NaN     4122913   \n",
       "\n",
       "                   VEHICLE TYPE CODE 1                  VEHICLE TYPE CODE 2  \\\n",
       "0                                Sedan  Station Wagon/Sport Utility Vehicle   \n",
       "1  Station Wagon/Sport Utility Vehicle                                Sedan   \n",
       "2  Station Wagon/Sport Utility Vehicle                                  NaN   \n",
       "3                        Pick-up Truck                                Sedan   \n",
       "4                        Pick-up Truck                                  NaN   \n",
       "\n",
       "                   VEHICLE TYPE CODE 3 VEHICLE TYPE CODE 4 VEHICLE TYPE CODE 5  \n",
       "0                                  NaN                 NaN                 NaN  \n",
       "1                                  NaN                 NaN                 NaN  \n",
       "2                                  NaN                 NaN                 NaN  \n",
       "3  Station Wagon/Sport Utility Vehicle               Sedan                 NaN  \n",
       "4                                  NaN                 NaN                 NaN  \n",
       "\n",
       "[5 rows x 29 columns]"
      ]
     },
     "execution_count": 4,
     "metadata": {},
     "output_type": "execute_result"
    }
   ],
   "source": [
    "df.head()"
   ]
  },
  {
   "cell_type": "code",
   "execution_count": 5,
   "metadata": {},
   "outputs": [
    {
     "ename": "AttributeError",
     "evalue": "'Series' object has no attribute 'year'",
     "output_type": "error",
     "traceback": [
      "\u001b[0;31m---------------------------------------------------------------------------\u001b[0m",
      "\u001b[0;31mAttributeError\u001b[0m                            Traceback (most recent call last)",
      "\u001b[0;32m<ipython-input-5-711ab64dcccb>\u001b[0m in \u001b[0;36m<module>\u001b[0;34m\u001b[0m\n\u001b[1;32m      1\u001b[0m \u001b[0mdf\u001b[0m\u001b[0;34m[\u001b[0m\u001b[0;34m'DATE'\u001b[0m\u001b[0;34m]\u001b[0m \u001b[0;34m=\u001b[0m \u001b[0mpd\u001b[0m\u001b[0;34m.\u001b[0m\u001b[0mto_datetime\u001b[0m\u001b[0;34m(\u001b[0m\u001b[0mdf\u001b[0m\u001b[0;34m[\u001b[0m\u001b[0;34m'DATE'\u001b[0m\u001b[0;34m]\u001b[0m\u001b[0;34m)\u001b[0m\u001b[0;34m\u001b[0m\u001b[0;34m\u001b[0m\u001b[0m\n\u001b[0;32m----> 2\u001b[0;31m \u001b[0mdf\u001b[0m\u001b[0;34m[\u001b[0m\u001b[0;34m'year'\u001b[0m\u001b[0;34m]\u001b[0m \u001b[0;34m=\u001b[0m \u001b[0mdf\u001b[0m\u001b[0;34m[\u001b[0m\u001b[0;34m'DATE'\u001b[0m\u001b[0;34m]\u001b[0m\u001b[0;34m.\u001b[0m\u001b[0myear\u001b[0m\u001b[0;34m\u001b[0m\u001b[0;34m\u001b[0m\u001b[0m\n\u001b[0m",
      "\u001b[0;32m~/anaconda3/lib/python3.7/site-packages/pandas/core/generic.py\u001b[0m in \u001b[0;36m__getattr__\u001b[0;34m(self, name)\u001b[0m\n\u001b[1;32m   4374\u001b[0m             \u001b[0;32mif\u001b[0m \u001b[0mself\u001b[0m\u001b[0;34m.\u001b[0m\u001b[0m_info_axis\u001b[0m\u001b[0;34m.\u001b[0m\u001b[0m_can_hold_identifiers_and_holds_name\u001b[0m\u001b[0;34m(\u001b[0m\u001b[0mname\u001b[0m\u001b[0;34m)\u001b[0m\u001b[0;34m:\u001b[0m\u001b[0;34m\u001b[0m\u001b[0;34m\u001b[0m\u001b[0m\n\u001b[1;32m   4375\u001b[0m                 \u001b[0;32mreturn\u001b[0m \u001b[0mself\u001b[0m\u001b[0;34m[\u001b[0m\u001b[0mname\u001b[0m\u001b[0;34m]\u001b[0m\u001b[0;34m\u001b[0m\u001b[0;34m\u001b[0m\u001b[0m\n\u001b[0;32m-> 4376\u001b[0;31m             \u001b[0;32mreturn\u001b[0m \u001b[0mobject\u001b[0m\u001b[0;34m.\u001b[0m\u001b[0m__getattribute__\u001b[0m\u001b[0;34m(\u001b[0m\u001b[0mself\u001b[0m\u001b[0;34m,\u001b[0m \u001b[0mname\u001b[0m\u001b[0;34m)\u001b[0m\u001b[0;34m\u001b[0m\u001b[0;34m\u001b[0m\u001b[0m\n\u001b[0m\u001b[1;32m   4377\u001b[0m \u001b[0;34m\u001b[0m\u001b[0m\n\u001b[1;32m   4378\u001b[0m     \u001b[0;32mdef\u001b[0m \u001b[0m__setattr__\u001b[0m\u001b[0;34m(\u001b[0m\u001b[0mself\u001b[0m\u001b[0;34m,\u001b[0m \u001b[0mname\u001b[0m\u001b[0;34m,\u001b[0m \u001b[0mvalue\u001b[0m\u001b[0;34m)\u001b[0m\u001b[0;34m:\u001b[0m\u001b[0;34m\u001b[0m\u001b[0;34m\u001b[0m\u001b[0m\n",
      "\u001b[0;31mAttributeError\u001b[0m: 'Series' object has no attribute 'year'"
     ]
    }
   ],
   "source": [
    "df['DATE'] = pd.to_datetime(df['DATE'])\n",
    "df['year'] = df['DATE'].dt.year"
   ]
  },
  {
   "cell_type": "code",
   "execution_count": 6,
   "metadata": {},
   "outputs": [],
   "source": [
    "df['year'] = df['DATE'].dt.year"
   ]
  },
  {
   "cell_type": "code",
   "execution_count": 9,
   "metadata": {},
   "outputs": [
    {
     "data": {
      "text/html": [
       "<div>\n",
       "<style scoped>\n",
       "    .dataframe tbody tr th:only-of-type {\n",
       "        vertical-align: middle;\n",
       "    }\n",
       "\n",
       "    .dataframe tbody tr th {\n",
       "        vertical-align: top;\n",
       "    }\n",
       "\n",
       "    .dataframe thead th {\n",
       "        text-align: right;\n",
       "    }\n",
       "</style>\n",
       "<table border=\"1\" class=\"dataframe\">\n",
       "  <thead>\n",
       "    <tr style=\"text-align: right;\">\n",
       "      <th></th>\n",
       "      <th>DATE</th>\n",
       "      <th>TIME</th>\n",
       "      <th>BOROUGH</th>\n",
       "      <th>ZIP CODE</th>\n",
       "      <th>LATITUDE</th>\n",
       "      <th>LONGITUDE</th>\n",
       "      <th>LOCATION</th>\n",
       "      <th>ON STREET NAME</th>\n",
       "      <th>CROSS STREET NAME</th>\n",
       "      <th>OFF STREET NAME</th>\n",
       "      <th>...</th>\n",
       "      <th>CONTRIBUTING FACTOR VEHICLE 3</th>\n",
       "      <th>CONTRIBUTING FACTOR VEHICLE 4</th>\n",
       "      <th>CONTRIBUTING FACTOR VEHICLE 5</th>\n",
       "      <th>UNIQUE KEY</th>\n",
       "      <th>VEHICLE TYPE CODE 1</th>\n",
       "      <th>VEHICLE TYPE CODE 2</th>\n",
       "      <th>VEHICLE TYPE CODE 3</th>\n",
       "      <th>VEHICLE TYPE CODE 4</th>\n",
       "      <th>VEHICLE TYPE CODE 5</th>\n",
       "      <th>year</th>\n",
       "    </tr>\n",
       "  </thead>\n",
       "  <tbody>\n",
       "    <tr>\n",
       "      <th>1486786</th>\n",
       "      <td>2012-07-01</td>\n",
       "      <td>9:45</td>\n",
       "      <td>NaN</td>\n",
       "      <td>NaN</td>\n",
       "      <td>NaN</td>\n",
       "      <td>NaN</td>\n",
       "      <td>NaN</td>\n",
       "      <td>NaN</td>\n",
       "      <td>NaN</td>\n",
       "      <td>NaN</td>\n",
       "      <td>...</td>\n",
       "      <td>NaN</td>\n",
       "      <td>NaN</td>\n",
       "      <td>NaN</td>\n",
       "      <td>2896726</td>\n",
       "      <td>PASSENGER VEHICLE</td>\n",
       "      <td>UNKNOWN</td>\n",
       "      <td>NaN</td>\n",
       "      <td>NaN</td>\n",
       "      <td>NaN</td>\n",
       "      <td>2012</td>\n",
       "    </tr>\n",
       "    <tr>\n",
       "      <th>1486787</th>\n",
       "      <td>2012-07-01</td>\n",
       "      <td>9:50</td>\n",
       "      <td>MANHATTAN</td>\n",
       "      <td>10019</td>\n",
       "      <td>40.766779</td>\n",
       "      <td>-73.996762</td>\n",
       "      <td>(40.7667789, -73.9967618)</td>\n",
       "      <td>WEST SIDE HIGHWAY</td>\n",
       "      <td>WEST 50 STREET</td>\n",
       "      <td>NaN</td>\n",
       "      <td>...</td>\n",
       "      <td>NaN</td>\n",
       "      <td>NaN</td>\n",
       "      <td>NaN</td>\n",
       "      <td>37635</td>\n",
       "      <td>VAN</td>\n",
       "      <td>SPORT UTILITY / STATION WAGON</td>\n",
       "      <td>NaN</td>\n",
       "      <td>NaN</td>\n",
       "      <td>NaN</td>\n",
       "      <td>2012</td>\n",
       "    </tr>\n",
       "    <tr>\n",
       "      <th>1486788</th>\n",
       "      <td>2012-07-01</td>\n",
       "      <td>9:50</td>\n",
       "      <td>QUEENS</td>\n",
       "      <td>11001</td>\n",
       "      <td>40.736245</td>\n",
       "      <td>-73.702966</td>\n",
       "      <td>(40.7362448, -73.7029656)</td>\n",
       "      <td>265 STREET</td>\n",
       "      <td>85 AVENUE</td>\n",
       "      <td>NaN</td>\n",
       "      <td>...</td>\n",
       "      <td>NaN</td>\n",
       "      <td>NaN</td>\n",
       "      <td>NaN</td>\n",
       "      <td>219395</td>\n",
       "      <td>PASSENGER VEHICLE</td>\n",
       "      <td>SPORT UTILITY / STATION WAGON</td>\n",
       "      <td>NaN</td>\n",
       "      <td>NaN</td>\n",
       "      <td>NaN</td>\n",
       "      <td>2012</td>\n",
       "    </tr>\n",
       "    <tr>\n",
       "      <th>1486789</th>\n",
       "      <td>2012-07-01</td>\n",
       "      <td>9:57</td>\n",
       "      <td>MANHATTAN</td>\n",
       "      <td>10065</td>\n",
       "      <td>40.765242</td>\n",
       "      <td>-73.957868</td>\n",
       "      <td>(40.7652424, -73.9578679)</td>\n",
       "      <td>1 AVENUE</td>\n",
       "      <td>EAST 68 STREET</td>\n",
       "      <td>NaN</td>\n",
       "      <td>...</td>\n",
       "      <td>NaN</td>\n",
       "      <td>NaN</td>\n",
       "      <td>NaN</td>\n",
       "      <td>44907</td>\n",
       "      <td>PASSENGER VEHICLE</td>\n",
       "      <td>TAXI</td>\n",
       "      <td>NaN</td>\n",
       "      <td>NaN</td>\n",
       "      <td>NaN</td>\n",
       "      <td>2012</td>\n",
       "    </tr>\n",
       "    <tr>\n",
       "      <th>1486790</th>\n",
       "      <td>2012-07-01</td>\n",
       "      <td>9:59</td>\n",
       "      <td>BRONX</td>\n",
       "      <td>10452</td>\n",
       "      <td>40.835397</td>\n",
       "      <td>-73.920305</td>\n",
       "      <td>(40.835397, -73.920305)</td>\n",
       "      <td>EAST 167 STREET</td>\n",
       "      <td>GERARD AVENUE</td>\n",
       "      <td>NaN</td>\n",
       "      <td>...</td>\n",
       "      <td>NaN</td>\n",
       "      <td>NaN</td>\n",
       "      <td>NaN</td>\n",
       "      <td>85154</td>\n",
       "      <td>PASSENGER VEHICLE</td>\n",
       "      <td>SPORT UTILITY / STATION WAGON</td>\n",
       "      <td>NaN</td>\n",
       "      <td>NaN</td>\n",
       "      <td>NaN</td>\n",
       "      <td>2012</td>\n",
       "    </tr>\n",
       "  </tbody>\n",
       "</table>\n",
       "<p>5 rows × 30 columns</p>\n",
       "</div>"
      ],
      "text/plain": [
       "              DATE  TIME    BOROUGH ZIP CODE   LATITUDE  LONGITUDE  \\\n",
       "1486786 2012-07-01  9:45        NaN      NaN        NaN        NaN   \n",
       "1486787 2012-07-01  9:50  MANHATTAN    10019  40.766779 -73.996762   \n",
       "1486788 2012-07-01  9:50     QUEENS    11001  40.736245 -73.702966   \n",
       "1486789 2012-07-01  9:57  MANHATTAN    10065  40.765242 -73.957868   \n",
       "1486790 2012-07-01  9:59      BRONX    10452  40.835397 -73.920305   \n",
       "\n",
       "                          LOCATION                    ON STREET NAME  \\\n",
       "1486786                        NaN                               NaN   \n",
       "1486787  (40.7667789, -73.9967618)  WEST SIDE HIGHWAY                  \n",
       "1486788  (40.7362448, -73.7029656)  265 STREET                         \n",
       "1486789  (40.7652424, -73.9578679)  1 AVENUE                           \n",
       "1486790    (40.835397, -73.920305)  EAST 167 STREET                    \n",
       "\n",
       "                        CROSS STREET NAME OFF STREET NAME  ...   \\\n",
       "1486786                               NaN             NaN  ...    \n",
       "1486787  WEST 50 STREET                               NaN  ...    \n",
       "1486788  85 AVENUE                                    NaN  ...    \n",
       "1486789  EAST 68 STREET                               NaN  ...    \n",
       "1486790  GERARD AVENUE                                NaN  ...    \n",
       "\n",
       "         CONTRIBUTING FACTOR VEHICLE 3  CONTRIBUTING FACTOR VEHICLE 4  \\\n",
       "1486786                            NaN                            NaN   \n",
       "1486787                            NaN                            NaN   \n",
       "1486788                            NaN                            NaN   \n",
       "1486789                            NaN                            NaN   \n",
       "1486790                            NaN                            NaN   \n",
       "\n",
       "         CONTRIBUTING FACTOR VEHICLE 5  UNIQUE KEY  VEHICLE TYPE CODE 1  \\\n",
       "1486786                            NaN     2896726    PASSENGER VEHICLE   \n",
       "1486787                            NaN       37635                  VAN   \n",
       "1486788                            NaN      219395    PASSENGER VEHICLE   \n",
       "1486789                            NaN       44907    PASSENGER VEHICLE   \n",
       "1486790                            NaN       85154    PASSENGER VEHICLE   \n",
       "\n",
       "                   VEHICLE TYPE CODE 2  VEHICLE TYPE CODE 3  \\\n",
       "1486786                        UNKNOWN                  NaN   \n",
       "1486787  SPORT UTILITY / STATION WAGON                  NaN   \n",
       "1486788  SPORT UTILITY / STATION WAGON                  NaN   \n",
       "1486789                           TAXI                  NaN   \n",
       "1486790  SPORT UTILITY / STATION WAGON                  NaN   \n",
       "\n",
       "         VEHICLE TYPE CODE 4 VEHICLE TYPE CODE 5  year  \n",
       "1486786                  NaN                 NaN  2012  \n",
       "1486787                  NaN                 NaN  2012  \n",
       "1486788                  NaN                 NaN  2012  \n",
       "1486789                  NaN                 NaN  2012  \n",
       "1486790                  NaN                 NaN  2012  \n",
       "\n",
       "[5 rows x 30 columns]"
      ]
     },
     "execution_count": 9,
     "metadata": {},
     "output_type": "execute_result"
    }
   ],
   "source": [
    "df.tail()"
   ]
  },
  {
   "cell_type": "code",
   "execution_count": 16,
   "metadata": {},
   "outputs": [
    {
     "data": {
      "text/plain": [
       "385743.0"
      ]
     },
     "execution_count": 16,
     "metadata": {},
     "output_type": "execute_result"
    }
   ],
   "source": [
    "df['NUMBER OF PERSONS INJURED'].sum()"
   ]
  },
  {
   "cell_type": "markdown",
   "metadata": {},
   "source": [
    "# What is the total number of persons injured in the dataset (up to December 31, 2018?)"
   ]
  },
  {
   "cell_type": "code",
   "execution_count": 14,
   "metadata": {},
   "outputs": [],
   "source": [
    "df_train = df[(df['year'] != 2019)]"
   ]
  },
  {
   "cell_type": "code",
   "execution_count": 15,
   "metadata": {},
   "outputs": [
    {
     "data": {
      "text/plain": [
       "368034.0"
      ]
     },
     "execution_count": 15,
     "metadata": {},
     "output_type": "execute_result"
    }
   ],
   "source": [
    "df_train['NUMBER OF PERSONS INJURED'].sum()"
   ]
  },
  {
   "cell_type": "markdown",
   "metadata": {},
   "source": [
    "# What proportion of collisions in 2016 resulted in injury or death of a cyclist?"
   ]
  },
  {
   "cell_type": "code",
   "execution_count": 21,
   "metadata": {},
   "outputs": [
    {
     "data": {
      "text/plain": [
       "0    224832\n",
       "1      4910\n",
       "2        44\n",
       "3         2\n",
       "Name: NUMBER OF CYCLIST INJURED, dtype: int64"
      ]
     },
     "execution_count": 21,
     "metadata": {},
     "output_type": "execute_result"
    }
   ],
   "source": [
    "df[df['year'] == 2016]['NUMBER OF CYCLIST INJURED'].value_counts()"
   ]
  },
  {
   "cell_type": "code",
   "execution_count": 25,
   "metadata": {},
   "outputs": [
    {
     "data": {
      "text/plain": [
       "0    229768\n",
       "1        20\n",
       "Name: NUMBER OF CYCLIST KILLED, dtype: int64"
      ]
     },
     "execution_count": 25,
     "metadata": {},
     "output_type": "execute_result"
    }
   ],
   "source": [
    "df[df['year'] == 2016]['NUMBER OF CYCLIST KILLED'].value_counts()"
   ]
  },
  {
   "cell_type": "code",
   "execution_count": 26,
   "metadata": {},
   "outputs": [
    {
     "data": {
      "text/plain": [
       "(229788, 30)"
      ]
     },
     "execution_count": 26,
     "metadata": {},
     "output_type": "execute_result"
    }
   ],
   "source": [
    "df[df['year'] == 2016].shape"
   ]
  },
  {
   "cell_type": "code",
   "execution_count": 27,
   "metadata": {},
   "outputs": [],
   "source": [
    "Propotion_of_collision_2016 = (4910 + 44 + 2 + 20) / 229788"
   ]
  },
  {
   "cell_type": "code",
   "execution_count": 29,
   "metadata": {},
   "outputs": [
    {
     "name": "stdout",
     "output_type": "stream",
     "text": [
      "0.0216547426\n"
     ]
    }
   ],
   "source": [
    "print(round(Propotion_of_collision_2016,10))"
   ]
  },
  {
   "cell_type": "markdown",
   "metadata": {},
   "source": [
    "# What proportion of all collisions in 2016 occured in Brooklyn? Only consider entries with a non-null value for BOROUGH. "
   ]
  },
  {
   "cell_type": "code",
   "execution_count": 34,
   "metadata": {},
   "outputs": [
    {
     "data": {
      "text/plain": [
       "1    153289\n",
       "0     76499\n",
       "Name: BOROUGH, dtype: int64"
      ]
     },
     "execution_count": 34,
     "metadata": {},
     "output_type": "execute_result"
    }
   ],
   "source": [
    "df[(df['year'] == 2016)]['BOROUGH'].apply(lambda x: 0 if pd.isna(x) else 1).value_counts()"
   ]
  },
  {
   "cell_type": "code",
   "execution_count": 36,
   "metadata": {},
   "outputs": [
    {
     "name": "stdout",
     "output_type": "stream",
     "text": [
      "0.6670887949\n"
     ]
    }
   ],
   "source": [
    "Ratio = 153289 / 229788\n",
    "print(round(Ratio,10))"
   ]
  },
  {
   "cell_type": "markdown",
   "metadata": {},
   "source": [
    "# For each borough, compute the number of accidents per capita involving alcohol in 2017. Report the highest rate among the 5 boroughs. "
   ]
  },
  {
   "cell_type": "code",
   "execution_count": 37,
   "metadata": {},
   "outputs": [
    {
     "data": {
      "text/plain": [
       "BROOKLYN         44912\n",
       "QUEENS           38624\n",
       "MANHATTAN        31774\n",
       "BRONX            21396\n",
       "STATEN ISLAND     6240\n",
       "Name: BOROUGH, dtype: int64"
      ]
     },
     "execution_count": 37,
     "metadata": {},
     "output_type": "execute_result"
    }
   ],
   "source": [
    "df[df['year'] == 2017]['BOROUGH'].value_counts()"
   ]
  },
  {
   "cell_type": "code",
   "execution_count": 64,
   "metadata": {},
   "outputs": [],
   "source": [
    "df_brooklyn = df[(df['year'] == 2017) & (df['BOROUGH'] == 'BROOKLYN')]\n",
    "df_queens = df[(df['year'] == 2017) & (df['BOROUGH'] == 'QUEENS')]\n",
    "df_manhattan = df[(df['year'] == 2017) & (df['BOROUGH'] == 'MANHATTAN')]\n",
    "df_bronx = df[(df['year'] == 2017) & (df['BOROUGH'] == 'BRONX')]\n",
    "df_staten = df[(df['year'] == 2017) & (df['BOROUGH'] == 'STATEN ISLAND')]"
   ]
  },
  {
   "cell_type": "code",
   "execution_count": 92,
   "metadata": {},
   "outputs": [
    {
     "data": {
      "text/plain": [
       "Unspecified                                              4800\n",
       "Driver Inattention/Distraction                            184\n",
       "Following Too Closely                                      47\n",
       "Backing Unsafely                                           40\n",
       "Failure to Yield Right-of-Way                              38\n",
       "Unsafe Speed                                               25\n",
       "Passing or Lane Usage Improper                             25\n",
       "Turning Improperly                                         24\n",
       "Unsafe Lane Changing                                       21\n",
       "Traffic Control Disregarded                                17\n",
       "Passing Too Closely                                        15\n",
       "Pavement Slippery                                          15\n",
       "View Obstructed/Limited                                    13\n",
       "Reaction to Uninvolved Vehicle                             13\n",
       "Other Vehicular                                            11\n",
       "Driver Inexperience                                         9\n",
       "Failure to Keep Right                                       6\n",
       "Alcohol Involvement                                         4\n",
       "Glare                                                       3\n",
       "Aggressive Driving/Road Rage                                3\n",
       "Lane Marking Improper/Inadequate                            2\n",
       "Pedestrian/Bicyclist/Other Pedestrian Error/Confusion       2\n",
       "Obstruction/Debris                                          2\n",
       "Oversized Vehicle                                           2\n",
       "Pavement Defective                                          2\n",
       "Drugs (illegal)                                             1\n",
       "Brakes Defective                                            1\n",
       "Fatigued/Drowsy                                             1\n",
       "Traffic Control Device Improper/Non-Working                 1\n",
       "Outside Car Distraction                                     1\n",
       "Passenger Distraction                                       1\n",
       "Animals Action                                              1\n",
       "Name: CONTRIBUTING FACTOR VEHICLE 2, dtype: int64"
      ]
     },
     "execution_count": 92,
     "metadata": {},
     "output_type": "execute_result"
    }
   ],
   "source": [
    "df_staten['CONTRIBUTING FACTOR VEHICLE 2'].value_counts()"
   ]
  },
  {
   "cell_type": "code",
   "execution_count": null,
   "metadata": {},
   "outputs": [],
   "source": []
  },
  {
   "cell_type": "code",
   "execution_count": 83,
   "metadata": {},
   "outputs": [
    {
     "data": {
      "text/html": [
       "<div>\n",
       "<style scoped>\n",
       "    .dataframe tbody tr th:only-of-type {\n",
       "        vertical-align: middle;\n",
       "    }\n",
       "\n",
       "    .dataframe tbody tr th {\n",
       "        vertical-align: top;\n",
       "    }\n",
       "\n",
       "    .dataframe thead th {\n",
       "        text-align: right;\n",
       "    }\n",
       "</style>\n",
       "<table border=\"1\" class=\"dataframe\">\n",
       "  <thead>\n",
       "    <tr style=\"text-align: right;\">\n",
       "      <th></th>\n",
       "      <th>DATE</th>\n",
       "      <th>TIME</th>\n",
       "      <th>BOROUGH</th>\n",
       "      <th>ZIP CODE</th>\n",
       "      <th>LATITUDE</th>\n",
       "      <th>LONGITUDE</th>\n",
       "      <th>LOCATION</th>\n",
       "      <th>ON STREET NAME</th>\n",
       "      <th>CROSS STREET NAME</th>\n",
       "      <th>OFF STREET NAME</th>\n",
       "      <th>...</th>\n",
       "      <th>CONTRIBUTING FACTOR VEHICLE 3</th>\n",
       "      <th>CONTRIBUTING FACTOR VEHICLE 4</th>\n",
       "      <th>CONTRIBUTING FACTOR VEHICLE 5</th>\n",
       "      <th>UNIQUE KEY</th>\n",
       "      <th>VEHICLE TYPE CODE 1</th>\n",
       "      <th>VEHICLE TYPE CODE 2</th>\n",
       "      <th>VEHICLE TYPE CODE 3</th>\n",
       "      <th>VEHICLE TYPE CODE 4</th>\n",
       "      <th>VEHICLE TYPE CODE 5</th>\n",
       "      <th>year</th>\n",
       "    </tr>\n",
       "  </thead>\n",
       "  <tbody>\n",
       "    <tr>\n",
       "      <th>325075</th>\n",
       "      <td>2017-11-19</td>\n",
       "      <td>2:22</td>\n",
       "      <td>BROOKLYN</td>\n",
       "      <td>11222</td>\n",
       "      <td>40.729256</td>\n",
       "      <td>-73.94605</td>\n",
       "      <td>(40.729256, -73.94605)</td>\n",
       "      <td>HUMBOLDT STREET</td>\n",
       "      <td>MESEROLE AVENUE</td>\n",
       "      <td>NaN</td>\n",
       "      <td>...</td>\n",
       "      <td>Alcohol Involvement</td>\n",
       "      <td>Alcohol Involvement</td>\n",
       "      <td>NaN</td>\n",
       "      <td>3793034</td>\n",
       "      <td>PASSENGER VEHICLE</td>\n",
       "      <td>PASSENGER VEHICLE</td>\n",
       "      <td>SPORT UTILITY / STATION WAGON</td>\n",
       "      <td>SPORT UTILITY / STATION WAGON</td>\n",
       "      <td>NaN</td>\n",
       "      <td>2017</td>\n",
       "    </tr>\n",
       "  </tbody>\n",
       "</table>\n",
       "<p>1 rows × 30 columns</p>\n",
       "</div>"
      ],
      "text/plain": [
       "             DATE  TIME   BOROUGH ZIP CODE   LATITUDE  LONGITUDE  \\\n",
       "325075 2017-11-19  2:22  BROOKLYN    11222  40.729256  -73.94605   \n",
       "\n",
       "                      LOCATION                    ON STREET NAME  \\\n",
       "325075  (40.729256, -73.94605)  HUMBOLDT STREET                    \n",
       "\n",
       "       CROSS STREET NAME OFF STREET NAME  ...   CONTRIBUTING FACTOR VEHICLE 3  \\\n",
       "325075   MESEROLE AVENUE             NaN  ...             Alcohol Involvement   \n",
       "\n",
       "        CONTRIBUTING FACTOR VEHICLE 4  CONTRIBUTING FACTOR VEHICLE 5  \\\n",
       "325075            Alcohol Involvement                            NaN   \n",
       "\n",
       "        UNIQUE KEY  VEHICLE TYPE CODE 1  VEHICLE TYPE CODE 2  \\\n",
       "325075     3793034    PASSENGER VEHICLE    PASSENGER VEHICLE   \n",
       "\n",
       "                  VEHICLE TYPE CODE 3            VEHICLE TYPE CODE 4  \\\n",
       "325075  SPORT UTILITY / STATION WAGON  SPORT UTILITY / STATION WAGON   \n",
       "\n",
       "       VEHICLE TYPE CODE 5  year  \n",
       "325075                 NaN  2017  \n",
       "\n",
       "[1 rows x 30 columns]"
      ]
     },
     "execution_count": 83,
     "metadata": {},
     "output_type": "execute_result"
    }
   ],
   "source": [
    "df_brooklyn[(df_brooklyn['CONTRIBUTING FACTOR VEHICLE 3'] =='Alcohol Involvement') & \n",
    "            (df_brooklyn['CONTRIBUTING FACTOR VEHICLE 2'] == 'Alcohol Involvement')]"
   ]
  },
  {
   "cell_type": "code",
   "execution_count": 111,
   "metadata": {},
   "outputs": [
    {
     "data": {
      "text/html": [
       "<div>\n",
       "<style scoped>\n",
       "    .dataframe tbody tr th:only-of-type {\n",
       "        vertical-align: middle;\n",
       "    }\n",
       "\n",
       "    .dataframe tbody tr th {\n",
       "        vertical-align: top;\n",
       "    }\n",
       "\n",
       "    .dataframe thead th {\n",
       "        text-align: right;\n",
       "    }\n",
       "</style>\n",
       "<table border=\"1\" class=\"dataframe\">\n",
       "  <thead>\n",
       "    <tr style=\"text-align: right;\">\n",
       "      <th></th>\n",
       "      <th>DATE</th>\n",
       "      <th>TIME</th>\n",
       "      <th>BOROUGH</th>\n",
       "      <th>ZIP CODE</th>\n",
       "      <th>LATITUDE</th>\n",
       "      <th>LONGITUDE</th>\n",
       "      <th>LOCATION</th>\n",
       "      <th>ON STREET NAME</th>\n",
       "      <th>CROSS STREET NAME</th>\n",
       "      <th>OFF STREET NAME</th>\n",
       "      <th>...</th>\n",
       "      <th>CONTRIBUTING FACTOR VEHICLE 3</th>\n",
       "      <th>CONTRIBUTING FACTOR VEHICLE 4</th>\n",
       "      <th>CONTRIBUTING FACTOR VEHICLE 5</th>\n",
       "      <th>UNIQUE KEY</th>\n",
       "      <th>VEHICLE TYPE CODE 1</th>\n",
       "      <th>VEHICLE TYPE CODE 2</th>\n",
       "      <th>VEHICLE TYPE CODE 3</th>\n",
       "      <th>VEHICLE TYPE CODE 4</th>\n",
       "      <th>VEHICLE TYPE CODE 5</th>\n",
       "      <th>year</th>\n",
       "    </tr>\n",
       "  </thead>\n",
       "  <tbody>\n",
       "    <tr>\n",
       "      <th>406679</th>\n",
       "      <td>2017-07-16</td>\n",
       "      <td>5:10</td>\n",
       "      <td>QUEENS</td>\n",
       "      <td>11377</td>\n",
       "      <td>40.744670</td>\n",
       "      <td>-73.895100</td>\n",
       "      <td>(40.74467, -73.8951)</td>\n",
       "      <td>70 STREET</td>\n",
       "      <td>41 AVENUE</td>\n",
       "      <td>NaN</td>\n",
       "      <td>...</td>\n",
       "      <td>NaN</td>\n",
       "      <td>NaN</td>\n",
       "      <td>NaN</td>\n",
       "      <td>3711832</td>\n",
       "      <td>SPORT UTILITY / STATION WAGON</td>\n",
       "      <td>PASSENGER VEHICLE</td>\n",
       "      <td>NaN</td>\n",
       "      <td>NaN</td>\n",
       "      <td>NaN</td>\n",
       "      <td>2017</td>\n",
       "    </tr>\n",
       "    <tr>\n",
       "      <th>476862</th>\n",
       "      <td>2017-03-31</td>\n",
       "      <td>21:40</td>\n",
       "      <td>QUEENS</td>\n",
       "      <td>11691</td>\n",
       "      <td>40.595270</td>\n",
       "      <td>-73.781845</td>\n",
       "      <td>(40.59527, -73.781845)</td>\n",
       "      <td>BEACH CHANNEL DRIVE</td>\n",
       "      <td>BEACH 51 STREET</td>\n",
       "      <td>NaN</td>\n",
       "      <td>...</td>\n",
       "      <td>Alcohol Involvement</td>\n",
       "      <td>Unspecified</td>\n",
       "      <td>Unspecified</td>\n",
       "      <td>3643401</td>\n",
       "      <td>PASSENGER VEHICLE</td>\n",
       "      <td>SPORT UTILITY / STATION WAGON</td>\n",
       "      <td>PASSENGER VEHICLE</td>\n",
       "      <td>SPORT UTILITY / STATION WAGON</td>\n",
       "      <td>SPORT UTILITY / STATION WAGON</td>\n",
       "      <td>2017</td>\n",
       "    </tr>\n",
       "    <tr>\n",
       "      <th>500490</th>\n",
       "      <td>2017-02-19</td>\n",
       "      <td>12:35</td>\n",
       "      <td>QUEENS</td>\n",
       "      <td>11691</td>\n",
       "      <td>40.599884</td>\n",
       "      <td>-73.760720</td>\n",
       "      <td>(40.599884, -73.76072)</td>\n",
       "      <td>BROOKHAVEN AVENUE</td>\n",
       "      <td>AZTEC PLACE</td>\n",
       "      <td>NaN</td>\n",
       "      <td>...</td>\n",
       "      <td>Unspecified</td>\n",
       "      <td>NaN</td>\n",
       "      <td>NaN</td>\n",
       "      <td>3620015</td>\n",
       "      <td>PASSENGER VEHICLE</td>\n",
       "      <td>SPORT UTILITY / STATION WAGON</td>\n",
       "      <td>PASSENGER VEHICLE</td>\n",
       "      <td>NaN</td>\n",
       "      <td>NaN</td>\n",
       "      <td>2017</td>\n",
       "    </tr>\n",
       "  </tbody>\n",
       "</table>\n",
       "<p>3 rows × 30 columns</p>\n",
       "</div>"
      ],
      "text/plain": [
       "             DATE   TIME BOROUGH ZIP CODE   LATITUDE  LONGITUDE  \\\n",
       "406679 2017-07-16   5:10  QUEENS    11377  40.744670 -73.895100   \n",
       "476862 2017-03-31  21:40  QUEENS    11691  40.595270 -73.781845   \n",
       "500490 2017-02-19  12:35  QUEENS    11691  40.599884 -73.760720   \n",
       "\n",
       "                      LOCATION                    ON STREET NAME  \\\n",
       "406679    (40.74467, -73.8951)  70 STREET                          \n",
       "476862  (40.59527, -73.781845)  BEACH CHANNEL DRIVE                \n",
       "500490  (40.599884, -73.76072)  BROOKHAVEN AVENUE                  \n",
       "\n",
       "       CROSS STREET NAME OFF STREET NAME  ...   CONTRIBUTING FACTOR VEHICLE 3  \\\n",
       "406679         41 AVENUE             NaN  ...                             NaN   \n",
       "476862   BEACH 51 STREET             NaN  ...             Alcohol Involvement   \n",
       "500490       AZTEC PLACE             NaN  ...                     Unspecified   \n",
       "\n",
       "        CONTRIBUTING FACTOR VEHICLE 4  CONTRIBUTING FACTOR VEHICLE 5  \\\n",
       "406679                            NaN                            NaN   \n",
       "476862                    Unspecified                    Unspecified   \n",
       "500490                            NaN                            NaN   \n",
       "\n",
       "        UNIQUE KEY            VEHICLE TYPE CODE 1  \\\n",
       "406679     3711832  SPORT UTILITY / STATION WAGON   \n",
       "476862     3643401              PASSENGER VEHICLE   \n",
       "500490     3620015              PASSENGER VEHICLE   \n",
       "\n",
       "                  VEHICLE TYPE CODE 2  VEHICLE TYPE CODE 3  \\\n",
       "406679              PASSENGER VEHICLE                  NaN   \n",
       "476862  SPORT UTILITY / STATION WAGON    PASSENGER VEHICLE   \n",
       "500490  SPORT UTILITY / STATION WAGON    PASSENGER VEHICLE   \n",
       "\n",
       "                  VEHICLE TYPE CODE 4            VEHICLE TYPE CODE 5  year  \n",
       "406679                            NaN                            NaN  2017  \n",
       "476862  SPORT UTILITY / STATION WAGON  SPORT UTILITY / STATION WAGON  2017  \n",
       "500490                            NaN                            NaN  2017  \n",
       "\n",
       "[3 rows x 30 columns]"
      ]
     },
     "execution_count": 111,
     "metadata": {},
     "output_type": "execute_result"
    }
   ],
   "source": [
    "df_queens[(df_queens['CONTRIBUTING FACTOR VEHICLE 2'] =='Alcohol Involvement') & \n",
    "            (df_queens['CONTRIBUTING FACTOR VEHICLE 1'] == 'Alcohol Involvement')]"
   ]
  },
  {
   "cell_type": "code",
   "execution_count": 104,
   "metadata": {},
   "outputs": [
    {
     "data": {
      "text/plain": [
       "DATE                             565\n",
       "TIME                             565\n",
       "BOROUGH                          565\n",
       "ZIP CODE                         565\n",
       "LATITUDE                         552\n",
       "LONGITUDE                        552\n",
       "LOCATION                         552\n",
       "ON STREET NAME                   367\n",
       "CROSS STREET NAME                367\n",
       "OFF STREET NAME                  198\n",
       "NUMBER OF PERSONS INJURED        565\n",
       "NUMBER OF PERSONS KILLED         565\n",
       "NUMBER OF PEDESTRIANS INJURED    565\n",
       "NUMBER OF PEDESTRIANS KILLED     565\n",
       "NUMBER OF CYCLIST INJURED        565\n",
       "NUMBER OF CYCLIST KILLED         565\n",
       "NUMBER OF MOTORIST INJURED       565\n",
       "NUMBER OF MOTORIST KILLED        565\n",
       "CONTRIBUTING FACTOR VEHICLE 1    565\n",
       "CONTRIBUTING FACTOR VEHICLE 2    501\n",
       "CONTRIBUTING FACTOR VEHICLE 3    126\n",
       "CONTRIBUTING FACTOR VEHICLE 4     54\n",
       "CONTRIBUTING FACTOR VEHICLE 5     20\n",
       "UNIQUE KEY                       565\n",
       "VEHICLE TYPE CODE 1              564\n",
       "VEHICLE TYPE CODE 2              471\n",
       "VEHICLE TYPE CODE 3              132\n",
       "VEHICLE TYPE CODE 4               62\n",
       "VEHICLE TYPE CODE 5               21\n",
       "year                             565\n",
       "dtype: int64"
      ]
     },
     "execution_count": 104,
     "metadata": {},
     "output_type": "execute_result"
    }
   ],
   "source": [
    "df_brooklyn[df_brooklyn['CONTRIBUTING FACTOR VEHICLE 1'] == 'Alcohol Involvement'].count()"
   ]
  },
  {
   "cell_type": "code",
   "execution_count": null,
   "metadata": {},
   "outputs": [],
   "source": []
  },
  {
   "cell_type": "code",
   "execution_count": 105,
   "metadata": {},
   "outputs": [],
   "source": [
    "ratio_1 = round(df_brooklyn[df_brooklyn['CONTRIBUTING FACTOR VEHICLE 1'] == 'Alcohol Involvement'].shape[0]/ 2648771, 10)\n",
    "ratio_2 = round(df_queens[df_queens['CONTRIBUTING FACTOR VEHICLE 1'] == 'Alcohol Involvement'].shape[0]/ 2358582, 10)\n",
    "ratio_3 = round(df_manhattan[df_manhattan['CONTRIBUTING FACTOR VEHICLE 1'] == 'Alcohol Involvement'].shape[0]/ 1664727, 10)\n",
    "ratio_4 = round(df_bronx[df_bronx['CONTRIBUTING FACTOR VEHICLE 1'] == 'Alcohol Involvement'].shape[0] / 1471160, 10)\n",
    "ratio_5 = round(df_staten[df_staten['CONTRIBUTING FACTOR VEHICLE 1'] == 'Alcohol Involvement'].shape[0] / 479458, 10)"
   ]
  },
  {
   "cell_type": "code",
   "execution_count": 106,
   "metadata": {},
   "outputs": [
    {
     "name": "stdout",
     "output_type": "stream",
     "text": [
      "0.0002133065 0.0002102958 0.0001471713 0.0001794502 0.0002023118\n"
     ]
    }
   ],
   "source": [
    "print(ratio_1, ratio_2, ratio_3, ratio_4, ratio_5)"
   ]
  },
  {
   "cell_type": "markdown",
   "metadata": {},
   "source": [
    "# Obtain the number of vehicles involved in each collision in 2016. Group the collisions by zip code and compute the sum of all vehicles involved in collisions in each zip code, then report the maximum of these values."
   ]
  },
  {
   "cell_type": "code",
   "execution_count": 131,
   "metadata": {},
   "outputs": [
    {
     "name": "stderr",
     "output_type": "stream",
     "text": [
      "/Users/zhouy2/anaconda3/lib/python3.7/site-packages/ipykernel_launcher.py:2: SettingWithCopyWarning: \n",
      "A value is trying to be set on a copy of a slice from a DataFrame.\n",
      "Try using .loc[row_indexer,col_indexer] = value instead\n",
      "\n",
      "See the caveats in the documentation: http://pandas.pydata.org/pandas-docs/stable/indexing.html#indexing-view-versus-copy\n",
      "  \n",
      "/Users/zhouy2/anaconda3/lib/python3.7/site-packages/ipykernel_launcher.py:3: SettingWithCopyWarning: \n",
      "A value is trying to be set on a copy of a slice from a DataFrame.\n",
      "Try using .loc[row_indexer,col_indexer] = value instead\n",
      "\n",
      "See the caveats in the documentation: http://pandas.pydata.org/pandas-docs/stable/indexing.html#indexing-view-versus-copy\n",
      "  This is separate from the ipykernel package so we can avoid doing imports until\n",
      "/Users/zhouy2/anaconda3/lib/python3.7/site-packages/ipykernel_launcher.py:4: SettingWithCopyWarning: \n",
      "A value is trying to be set on a copy of a slice from a DataFrame.\n",
      "Try using .loc[row_indexer,col_indexer] = value instead\n",
      "\n",
      "See the caveats in the documentation: http://pandas.pydata.org/pandas-docs/stable/indexing.html#indexing-view-versus-copy\n",
      "  after removing the cwd from sys.path.\n",
      "/Users/zhouy2/anaconda3/lib/python3.7/site-packages/ipykernel_launcher.py:5: SettingWithCopyWarning: \n",
      "A value is trying to be set on a copy of a slice from a DataFrame.\n",
      "Try using .loc[row_indexer,col_indexer] = value instead\n",
      "\n",
      "See the caveats in the documentation: http://pandas.pydata.org/pandas-docs/stable/indexing.html#indexing-view-versus-copy\n",
      "  \"\"\"\n",
      "/Users/zhouy2/anaconda3/lib/python3.7/site-packages/ipykernel_launcher.py:6: SettingWithCopyWarning: \n",
      "A value is trying to be set on a copy of a slice from a DataFrame.\n",
      "Try using .loc[row_indexer,col_indexer] = value instead\n",
      "\n",
      "See the caveats in the documentation: http://pandas.pydata.org/pandas-docs/stable/indexing.html#indexing-view-versus-copy\n",
      "  \n"
     ]
    }
   ],
   "source": [
    "df_2016 = df[df['year'] == 2016]\n",
    "df_2016['VEHICLE TYPE CODE 1'] = df_2016['VEHICLE TYPE CODE 1'].apply(lambda x: 0 if pd.isna(x) else 1)\n",
    "df_2016['VEHICLE TYPE CODE 2'] = df_2016['VEHICLE TYPE CODE 2'].apply(lambda x: 0 if pd.isna(x) else 1)\n",
    "df_2016['VEHICLE TYPE CODE 3'] = df_2016['VEHICLE TYPE CODE 3'].apply(lambda x: 0 if pd.isna(x) else 1)\n",
    "df_2016['VEHICLE TYPE CODE 4'] = df_2016['VEHICLE TYPE CODE 4'].apply(lambda x: 0 if pd.isna(x) else 1)\n",
    "df_2016['VEHICLE TYPE CODE 5'] = df_2016['VEHICLE TYPE CODE 5'].apply(lambda x: 0 if pd.isna(x) else 1)"
   ]
  },
  {
   "cell_type": "code",
   "execution_count": 116,
   "metadata": {},
   "outputs": [],
   "source": [
    "cols = ['VEHICLE TYPE CODE 1','VEHICLE TYPE CODE 2', 'VEHICLE TYPE CODE 3','VEHICLE TYPE CODE 4','VEHICLE TYPE CODE 5']\n"
   ]
  },
  {
   "cell_type": "code",
   "execution_count": 118,
   "metadata": {},
   "outputs": [
    {
     "data": {
      "text/plain": [
       "['VEHICLE TYPE CODE 1',\n",
       " 'VEHICLE TYPE CODE 2',\n",
       " 'VEHICLE TYPE CODE 3',\n",
       " 'VEHICLE TYPE CODE 4',\n",
       " 'VEHICLE TYPE CODE 5']"
      ]
     },
     "execution_count": 118,
     "metadata": {},
     "output_type": "execute_result"
    }
   ],
   "source": [
    "cols"
   ]
  },
  {
   "cell_type": "code",
   "execution_count": null,
   "metadata": {},
   "outputs": [],
   "source": []
  },
  {
   "cell_type": "code",
   "execution_count": 157,
   "metadata": {},
   "outputs": [
    {
     "name": "stderr",
     "output_type": "stream",
     "text": [
      "/Users/zhouy2/anaconda3/lib/python3.7/site-packages/ipykernel_launcher.py:1: SettingWithCopyWarning: \n",
      "A value is trying to be set on a copy of a slice from a DataFrame.\n",
      "Try using .loc[row_indexer,col_indexer] = value instead\n",
      "\n",
      "See the caveats in the documentation: http://pandas.pydata.org/pandas-docs/stable/indexing.html#indexing-view-versus-copy\n",
      "  \"\"\"Entry point for launching an IPython kernel.\n"
     ]
    }
   ],
   "source": [
    "df_2016['Num_of_Vehicles']= np.sum([df_2016[col] for col in cols], axis=0)"
   ]
  },
  {
   "cell_type": "code",
   "execution_count": 162,
   "metadata": {},
   "outputs": [],
   "source": [
    "res = df_2016.groupby(['ZIP CODE']).sum().reset_index()"
   ]
  },
  {
   "cell_type": "code",
   "execution_count": 163,
   "metadata": {},
   "outputs": [
    {
     "data": {
      "text/plain": [
       "5703"
      ]
     },
     "execution_count": 163,
     "metadata": {},
     "output_type": "execute_result"
    }
   ],
   "source": [
    "res['Num_of_Vehicles'].max()"
   ]
  },
  {
   "cell_type": "markdown",
   "metadata": {},
   "source": [
    "# Compute the rate of multi car collisions as the proportion of the number of collisions involving 3 or more cars to the total number of collisions for each month of 2017. Calculate the chi-square test statistic for testing whether a collision is more likely to involve 3 or more cars in January than in May."
   ]
  },
  {
   "cell_type": "code",
   "execution_count": 164,
   "metadata": {},
   "outputs": [
    {
     "name": "stderr",
     "output_type": "stream",
     "text": [
      "/Users/zhouy2/anaconda3/lib/python3.7/site-packages/ipykernel_launcher.py:2: SettingWithCopyWarning: \n",
      "A value is trying to be set on a copy of a slice from a DataFrame.\n",
      "Try using .loc[row_indexer,col_indexer] = value instead\n",
      "\n",
      "See the caveats in the documentation: http://pandas.pydata.org/pandas-docs/stable/indexing.html#indexing-view-versus-copy\n",
      "  \n",
      "/Users/zhouy2/anaconda3/lib/python3.7/site-packages/ipykernel_launcher.py:3: SettingWithCopyWarning: \n",
      "A value is trying to be set on a copy of a slice from a DataFrame.\n",
      "Try using .loc[row_indexer,col_indexer] = value instead\n",
      "\n",
      "See the caveats in the documentation: http://pandas.pydata.org/pandas-docs/stable/indexing.html#indexing-view-versus-copy\n",
      "  This is separate from the ipykernel package so we can avoid doing imports until\n",
      "/Users/zhouy2/anaconda3/lib/python3.7/site-packages/ipykernel_launcher.py:4: SettingWithCopyWarning: \n",
      "A value is trying to be set on a copy of a slice from a DataFrame.\n",
      "Try using .loc[row_indexer,col_indexer] = value instead\n",
      "\n",
      "See the caveats in the documentation: http://pandas.pydata.org/pandas-docs/stable/indexing.html#indexing-view-versus-copy\n",
      "  after removing the cwd from sys.path.\n",
      "/Users/zhouy2/anaconda3/lib/python3.7/site-packages/ipykernel_launcher.py:5: SettingWithCopyWarning: \n",
      "A value is trying to be set on a copy of a slice from a DataFrame.\n",
      "Try using .loc[row_indexer,col_indexer] = value instead\n",
      "\n",
      "See the caveats in the documentation: http://pandas.pydata.org/pandas-docs/stable/indexing.html#indexing-view-versus-copy\n",
      "  \"\"\"\n",
      "/Users/zhouy2/anaconda3/lib/python3.7/site-packages/ipykernel_launcher.py:6: SettingWithCopyWarning: \n",
      "A value is trying to be set on a copy of a slice from a DataFrame.\n",
      "Try using .loc[row_indexer,col_indexer] = value instead\n",
      "\n",
      "See the caveats in the documentation: http://pandas.pydata.org/pandas-docs/stable/indexing.html#indexing-view-versus-copy\n",
      "  \n"
     ]
    }
   ],
   "source": [
    "df_2017 = df[df['year'] == 2017]\n",
    "df_2017['VEHICLE TYPE CODE 1'] = df_2017['VEHICLE TYPE CODE 1'].apply(lambda x: 0 if pd.isna(x) else 1)\n",
    "df_2017['VEHICLE TYPE CODE 2'] = df_2017['VEHICLE TYPE CODE 2'].apply(lambda x: 0 if pd.isna(x) else 1)\n",
    "df_2017['VEHICLE TYPE CODE 3'] = df_2017['VEHICLE TYPE CODE 3'].apply(lambda x: 0 if pd.isna(x) else 1)\n",
    "df_2017['VEHICLE TYPE CODE 4'] = df_2017['VEHICLE TYPE CODE 4'].apply(lambda x: 0 if pd.isna(x) else 1)\n",
    "df_2017['VEHICLE TYPE CODE 5'] = df_2017['VEHICLE TYPE CODE 5'].apply(lambda x: 0 if pd.isna(x) else 1)"
   ]
  },
  {
   "cell_type": "code",
   "execution_count": 165,
   "metadata": {},
   "outputs": [
    {
     "name": "stderr",
     "output_type": "stream",
     "text": [
      "/Users/zhouy2/anaconda3/lib/python3.7/site-packages/ipykernel_launcher.py:1: SettingWithCopyWarning: \n",
      "A value is trying to be set on a copy of a slice from a DataFrame.\n",
      "Try using .loc[row_indexer,col_indexer] = value instead\n",
      "\n",
      "See the caveats in the documentation: http://pandas.pydata.org/pandas-docs/stable/indexing.html#indexing-view-versus-copy\n",
      "  \"\"\"Entry point for launching an IPython kernel.\n"
     ]
    }
   ],
   "source": [
    "df_2017['Num_of_Vehicles']= np.sum([df_2017[col] for col in cols], axis=0)"
   ]
  },
  {
   "cell_type": "code",
   "execution_count": 167,
   "metadata": {},
   "outputs": [],
   "source": [
    "df_new = df_2017[df_2017['Num_of_Vehicles'] >= 3]"
   ]
  },
  {
   "cell_type": "code",
   "execution_count": 168,
   "metadata": {},
   "outputs": [
    {
     "data": {
      "text/plain": [
       "(18220, 31)"
      ]
     },
     "execution_count": 168,
     "metadata": {},
     "output_type": "execute_result"
    }
   ],
   "source": [
    "df_new.shape"
   ]
  },
  {
   "cell_type": "code",
   "execution_count": 170,
   "metadata": {},
   "outputs": [
    {
     "data": {
      "text/html": [
       "<div>\n",
       "<style scoped>\n",
       "    .dataframe tbody tr th:only-of-type {\n",
       "        vertical-align: middle;\n",
       "    }\n",
       "\n",
       "    .dataframe tbody tr th {\n",
       "        vertical-align: top;\n",
       "    }\n",
       "\n",
       "    .dataframe thead th {\n",
       "        text-align: right;\n",
       "    }\n",
       "</style>\n",
       "<table border=\"1\" class=\"dataframe\">\n",
       "  <thead>\n",
       "    <tr style=\"text-align: right;\">\n",
       "      <th></th>\n",
       "      <th>DATE</th>\n",
       "      <th>TIME</th>\n",
       "      <th>BOROUGH</th>\n",
       "      <th>ZIP CODE</th>\n",
       "      <th>LATITUDE</th>\n",
       "      <th>LONGITUDE</th>\n",
       "      <th>LOCATION</th>\n",
       "      <th>ON STREET NAME</th>\n",
       "      <th>CROSS STREET NAME</th>\n",
       "      <th>OFF STREET NAME</th>\n",
       "      <th>...</th>\n",
       "      <th>CONTRIBUTING FACTOR VEHICLE 4</th>\n",
       "      <th>CONTRIBUTING FACTOR VEHICLE 5</th>\n",
       "      <th>UNIQUE KEY</th>\n",
       "      <th>VEHICLE TYPE CODE 1</th>\n",
       "      <th>VEHICLE TYPE CODE 2</th>\n",
       "      <th>VEHICLE TYPE CODE 3</th>\n",
       "      <th>VEHICLE TYPE CODE 4</th>\n",
       "      <th>VEHICLE TYPE CODE 5</th>\n",
       "      <th>year</th>\n",
       "      <th>Num_of_Vehicles</th>\n",
       "    </tr>\n",
       "  </thead>\n",
       "  <tbody>\n",
       "    <tr>\n",
       "      <th>298031</th>\n",
       "      <td>2017-12-31</td>\n",
       "      <td>0:20</td>\n",
       "      <td>NaN</td>\n",
       "      <td>NaN</td>\n",
       "      <td>40.856380</td>\n",
       "      <td>-73.82631</td>\n",
       "      <td>(40.85638, -73.82631)</td>\n",
       "      <td>BRUCKNER EXPRESSWAY</td>\n",
       "      <td>NaN</td>\n",
       "      <td>NaN</td>\n",
       "      <td>...</td>\n",
       "      <td>Unspecified</td>\n",
       "      <td>NaN</td>\n",
       "      <td>3818931</td>\n",
       "      <td>1</td>\n",
       "      <td>1</td>\n",
       "      <td>1</td>\n",
       "      <td>1</td>\n",
       "      <td>0</td>\n",
       "      <td>2017</td>\n",
       "      <td>4</td>\n",
       "    </tr>\n",
       "    <tr>\n",
       "      <th>298061</th>\n",
       "      <td>2017-12-31</td>\n",
       "      <td>10:50</td>\n",
       "      <td>NaN</td>\n",
       "      <td>NaN</td>\n",
       "      <td>40.785150</td>\n",
       "      <td>-73.94063</td>\n",
       "      <td>(40.78515, -73.94063)</td>\n",
       "      <td>FDR DRIVE</td>\n",
       "      <td>NaN</td>\n",
       "      <td>NaN</td>\n",
       "      <td>...</td>\n",
       "      <td>NaN</td>\n",
       "      <td>NaN</td>\n",
       "      <td>3819295</td>\n",
       "      <td>1</td>\n",
       "      <td>1</td>\n",
       "      <td>1</td>\n",
       "      <td>0</td>\n",
       "      <td>0</td>\n",
       "      <td>2017</td>\n",
       "      <td>3</td>\n",
       "    </tr>\n",
       "    <tr>\n",
       "      <th>298072</th>\n",
       "      <td>2017-12-31</td>\n",
       "      <td>11:10</td>\n",
       "      <td>NaN</td>\n",
       "      <td>NaN</td>\n",
       "      <td>40.722305</td>\n",
       "      <td>-73.84414</td>\n",
       "      <td>(40.722305, -73.84414)</td>\n",
       "      <td>108 STREET</td>\n",
       "      <td>NaN</td>\n",
       "      <td>NaN</td>\n",
       "      <td>...</td>\n",
       "      <td>NaN</td>\n",
       "      <td>NaN</td>\n",
       "      <td>3820721</td>\n",
       "      <td>1</td>\n",
       "      <td>1</td>\n",
       "      <td>1</td>\n",
       "      <td>0</td>\n",
       "      <td>0</td>\n",
       "      <td>2017</td>\n",
       "      <td>3</td>\n",
       "    </tr>\n",
       "    <tr>\n",
       "      <th>298114</th>\n",
       "      <td>2017-12-31</td>\n",
       "      <td>13:00</td>\n",
       "      <td>BROOKLYN</td>\n",
       "      <td>11228</td>\n",
       "      <td>40.620472</td>\n",
       "      <td>-74.01085</td>\n",
       "      <td>(40.620472, -74.01085)</td>\n",
       "      <td>77 STREET</td>\n",
       "      <td>12 AVENUE</td>\n",
       "      <td>NaN</td>\n",
       "      <td>...</td>\n",
       "      <td>NaN</td>\n",
       "      <td>NaN</td>\n",
       "      <td>3820644</td>\n",
       "      <td>1</td>\n",
       "      <td>1</td>\n",
       "      <td>1</td>\n",
       "      <td>0</td>\n",
       "      <td>0</td>\n",
       "      <td>2017</td>\n",
       "      <td>3</td>\n",
       "    </tr>\n",
       "    <tr>\n",
       "      <th>298164</th>\n",
       "      <td>2017-12-31</td>\n",
       "      <td>15:00</td>\n",
       "      <td>QUEENS</td>\n",
       "      <td>11375</td>\n",
       "      <td>40.710400</td>\n",
       "      <td>-73.83974</td>\n",
       "      <td>(40.7104, -73.83974)</td>\n",
       "      <td>UNION TURNPIKE</td>\n",
       "      <td>GREENWAY SOUTH</td>\n",
       "      <td>NaN</td>\n",
       "      <td>...</td>\n",
       "      <td>NaN</td>\n",
       "      <td>NaN</td>\n",
       "      <td>3820722</td>\n",
       "      <td>1</td>\n",
       "      <td>1</td>\n",
       "      <td>1</td>\n",
       "      <td>0</td>\n",
       "      <td>0</td>\n",
       "      <td>2017</td>\n",
       "      <td>3</td>\n",
       "    </tr>\n",
       "  </tbody>\n",
       "</table>\n",
       "<p>5 rows × 31 columns</p>\n",
       "</div>"
      ],
      "text/plain": [
       "             DATE   TIME   BOROUGH ZIP CODE   LATITUDE  LONGITUDE  \\\n",
       "298031 2017-12-31   0:20       NaN      NaN  40.856380  -73.82631   \n",
       "298061 2017-12-31  10:50       NaN      NaN  40.785150  -73.94063   \n",
       "298072 2017-12-31  11:10       NaN      NaN  40.722305  -73.84414   \n",
       "298114 2017-12-31  13:00  BROOKLYN    11228  40.620472  -74.01085   \n",
       "298164 2017-12-31  15:00    QUEENS    11375  40.710400  -73.83974   \n",
       "\n",
       "                      LOCATION                    ON STREET NAME  \\\n",
       "298031   (40.85638, -73.82631)  BRUCKNER EXPRESSWAY                \n",
       "298061   (40.78515, -73.94063)  FDR DRIVE                          \n",
       "298072  (40.722305, -73.84414)  108 STREET                         \n",
       "298114  (40.620472, -74.01085)  77 STREET                          \n",
       "298164    (40.7104, -73.83974)  UNION TURNPIKE                     \n",
       "\n",
       "       CROSS STREET NAME OFF STREET NAME       ...        \\\n",
       "298031               NaN             NaN       ...         \n",
       "298061               NaN             NaN       ...         \n",
       "298072               NaN             NaN       ...         \n",
       "298114         12 AVENUE             NaN       ...         \n",
       "298164    GREENWAY SOUTH             NaN       ...         \n",
       "\n",
       "        CONTRIBUTING FACTOR VEHICLE 4  CONTRIBUTING FACTOR VEHICLE 5  \\\n",
       "298031                    Unspecified                            NaN   \n",
       "298061                            NaN                            NaN   \n",
       "298072                            NaN                            NaN   \n",
       "298114                            NaN                            NaN   \n",
       "298164                            NaN                            NaN   \n",
       "\n",
       "        UNIQUE KEY  VEHICLE TYPE CODE 1  VEHICLE TYPE CODE 2  \\\n",
       "298031     3818931                    1                    1   \n",
       "298061     3819295                    1                    1   \n",
       "298072     3820721                    1                    1   \n",
       "298114     3820644                    1                    1   \n",
       "298164     3820722                    1                    1   \n",
       "\n",
       "        VEHICLE TYPE CODE 3  VEHICLE TYPE CODE 4  VEHICLE TYPE CODE 5  year  \\\n",
       "298031                    1                    1                    0  2017   \n",
       "298061                    1                    0                    0  2017   \n",
       "298072                    1                    0                    0  2017   \n",
       "298114                    1                    0                    0  2017   \n",
       "298164                    1                    0                    0  2017   \n",
       "\n",
       "       Num_of_Vehicles  \n",
       "298031               4  \n",
       "298061               3  \n",
       "298072               3  \n",
       "298114               3  \n",
       "298164               3  \n",
       "\n",
       "[5 rows x 31 columns]"
      ]
     },
     "execution_count": 170,
     "metadata": {},
     "output_type": "execute_result"
    }
   ],
   "source": [
    "df_new.head()"
   ]
  },
  {
   "cell_type": "code",
   "execution_count": 173,
   "metadata": {},
   "outputs": [
    {
     "name": "stderr",
     "output_type": "stream",
     "text": [
      "/Users/zhouy2/anaconda3/lib/python3.7/site-packages/ipykernel_launcher.py:1: SettingWithCopyWarning: \n",
      "A value is trying to be set on a copy of a slice from a DataFrame.\n",
      "Try using .loc[row_indexer,col_indexer] = value instead\n",
      "\n",
      "See the caveats in the documentation: http://pandas.pydata.org/pandas-docs/stable/indexing.html#indexing-view-versus-copy\n",
      "  \"\"\"Entry point for launching an IPython kernel.\n"
     ]
    }
   ],
   "source": [
    "df_new['month'] = df_new['DATE'].dt.month"
   ]
  },
  {
   "cell_type": "code",
   "execution_count": 174,
   "metadata": {},
   "outputs": [
    {
     "data": {
      "text/html": [
       "<div>\n",
       "<style scoped>\n",
       "    .dataframe tbody tr th:only-of-type {\n",
       "        vertical-align: middle;\n",
       "    }\n",
       "\n",
       "    .dataframe tbody tr th {\n",
       "        vertical-align: top;\n",
       "    }\n",
       "\n",
       "    .dataframe thead th {\n",
       "        text-align: right;\n",
       "    }\n",
       "</style>\n",
       "<table border=\"1\" class=\"dataframe\">\n",
       "  <thead>\n",
       "    <tr style=\"text-align: right;\">\n",
       "      <th></th>\n",
       "      <th>DATE</th>\n",
       "      <th>TIME</th>\n",
       "      <th>BOROUGH</th>\n",
       "      <th>ZIP CODE</th>\n",
       "      <th>LATITUDE</th>\n",
       "      <th>LONGITUDE</th>\n",
       "      <th>LOCATION</th>\n",
       "      <th>ON STREET NAME</th>\n",
       "      <th>CROSS STREET NAME</th>\n",
       "      <th>OFF STREET NAME</th>\n",
       "      <th>...</th>\n",
       "      <th>CONTRIBUTING FACTOR VEHICLE 5</th>\n",
       "      <th>UNIQUE KEY</th>\n",
       "      <th>VEHICLE TYPE CODE 1</th>\n",
       "      <th>VEHICLE TYPE CODE 2</th>\n",
       "      <th>VEHICLE TYPE CODE 3</th>\n",
       "      <th>VEHICLE TYPE CODE 4</th>\n",
       "      <th>VEHICLE TYPE CODE 5</th>\n",
       "      <th>year</th>\n",
       "      <th>Num_of_Vehicles</th>\n",
       "      <th>month</th>\n",
       "    </tr>\n",
       "  </thead>\n",
       "  <tbody>\n",
       "    <tr>\n",
       "      <th>298031</th>\n",
       "      <td>2017-12-31</td>\n",
       "      <td>0:20</td>\n",
       "      <td>NaN</td>\n",
       "      <td>NaN</td>\n",
       "      <td>40.856380</td>\n",
       "      <td>-73.82631</td>\n",
       "      <td>(40.85638, -73.82631)</td>\n",
       "      <td>BRUCKNER EXPRESSWAY</td>\n",
       "      <td>NaN</td>\n",
       "      <td>NaN</td>\n",
       "      <td>...</td>\n",
       "      <td>NaN</td>\n",
       "      <td>3818931</td>\n",
       "      <td>1</td>\n",
       "      <td>1</td>\n",
       "      <td>1</td>\n",
       "      <td>1</td>\n",
       "      <td>0</td>\n",
       "      <td>2017</td>\n",
       "      <td>4</td>\n",
       "      <td>12</td>\n",
       "    </tr>\n",
       "    <tr>\n",
       "      <th>298061</th>\n",
       "      <td>2017-12-31</td>\n",
       "      <td>10:50</td>\n",
       "      <td>NaN</td>\n",
       "      <td>NaN</td>\n",
       "      <td>40.785150</td>\n",
       "      <td>-73.94063</td>\n",
       "      <td>(40.78515, -73.94063)</td>\n",
       "      <td>FDR DRIVE</td>\n",
       "      <td>NaN</td>\n",
       "      <td>NaN</td>\n",
       "      <td>...</td>\n",
       "      <td>NaN</td>\n",
       "      <td>3819295</td>\n",
       "      <td>1</td>\n",
       "      <td>1</td>\n",
       "      <td>1</td>\n",
       "      <td>0</td>\n",
       "      <td>0</td>\n",
       "      <td>2017</td>\n",
       "      <td>3</td>\n",
       "      <td>12</td>\n",
       "    </tr>\n",
       "    <tr>\n",
       "      <th>298072</th>\n",
       "      <td>2017-12-31</td>\n",
       "      <td>11:10</td>\n",
       "      <td>NaN</td>\n",
       "      <td>NaN</td>\n",
       "      <td>40.722305</td>\n",
       "      <td>-73.84414</td>\n",
       "      <td>(40.722305, -73.84414)</td>\n",
       "      <td>108 STREET</td>\n",
       "      <td>NaN</td>\n",
       "      <td>NaN</td>\n",
       "      <td>...</td>\n",
       "      <td>NaN</td>\n",
       "      <td>3820721</td>\n",
       "      <td>1</td>\n",
       "      <td>1</td>\n",
       "      <td>1</td>\n",
       "      <td>0</td>\n",
       "      <td>0</td>\n",
       "      <td>2017</td>\n",
       "      <td>3</td>\n",
       "      <td>12</td>\n",
       "    </tr>\n",
       "    <tr>\n",
       "      <th>298114</th>\n",
       "      <td>2017-12-31</td>\n",
       "      <td>13:00</td>\n",
       "      <td>BROOKLYN</td>\n",
       "      <td>11228</td>\n",
       "      <td>40.620472</td>\n",
       "      <td>-74.01085</td>\n",
       "      <td>(40.620472, -74.01085)</td>\n",
       "      <td>77 STREET</td>\n",
       "      <td>12 AVENUE</td>\n",
       "      <td>NaN</td>\n",
       "      <td>...</td>\n",
       "      <td>NaN</td>\n",
       "      <td>3820644</td>\n",
       "      <td>1</td>\n",
       "      <td>1</td>\n",
       "      <td>1</td>\n",
       "      <td>0</td>\n",
       "      <td>0</td>\n",
       "      <td>2017</td>\n",
       "      <td>3</td>\n",
       "      <td>12</td>\n",
       "    </tr>\n",
       "    <tr>\n",
       "      <th>298164</th>\n",
       "      <td>2017-12-31</td>\n",
       "      <td>15:00</td>\n",
       "      <td>QUEENS</td>\n",
       "      <td>11375</td>\n",
       "      <td>40.710400</td>\n",
       "      <td>-73.83974</td>\n",
       "      <td>(40.7104, -73.83974)</td>\n",
       "      <td>UNION TURNPIKE</td>\n",
       "      <td>GREENWAY SOUTH</td>\n",
       "      <td>NaN</td>\n",
       "      <td>...</td>\n",
       "      <td>NaN</td>\n",
       "      <td>3820722</td>\n",
       "      <td>1</td>\n",
       "      <td>1</td>\n",
       "      <td>1</td>\n",
       "      <td>0</td>\n",
       "      <td>0</td>\n",
       "      <td>2017</td>\n",
       "      <td>3</td>\n",
       "      <td>12</td>\n",
       "    </tr>\n",
       "  </tbody>\n",
       "</table>\n",
       "<p>5 rows × 32 columns</p>\n",
       "</div>"
      ],
      "text/plain": [
       "             DATE   TIME   BOROUGH ZIP CODE   LATITUDE  LONGITUDE  \\\n",
       "298031 2017-12-31   0:20       NaN      NaN  40.856380  -73.82631   \n",
       "298061 2017-12-31  10:50       NaN      NaN  40.785150  -73.94063   \n",
       "298072 2017-12-31  11:10       NaN      NaN  40.722305  -73.84414   \n",
       "298114 2017-12-31  13:00  BROOKLYN    11228  40.620472  -74.01085   \n",
       "298164 2017-12-31  15:00    QUEENS    11375  40.710400  -73.83974   \n",
       "\n",
       "                      LOCATION                    ON STREET NAME  \\\n",
       "298031   (40.85638, -73.82631)  BRUCKNER EXPRESSWAY                \n",
       "298061   (40.78515, -73.94063)  FDR DRIVE                          \n",
       "298072  (40.722305, -73.84414)  108 STREET                         \n",
       "298114  (40.620472, -74.01085)  77 STREET                          \n",
       "298164    (40.7104, -73.83974)  UNION TURNPIKE                     \n",
       "\n",
       "       CROSS STREET NAME OFF STREET NAME  ...   CONTRIBUTING FACTOR VEHICLE 5  \\\n",
       "298031               NaN             NaN  ...                             NaN   \n",
       "298061               NaN             NaN  ...                             NaN   \n",
       "298072               NaN             NaN  ...                             NaN   \n",
       "298114         12 AVENUE             NaN  ...                             NaN   \n",
       "298164    GREENWAY SOUTH             NaN  ...                             NaN   \n",
       "\n",
       "        UNIQUE KEY  VEHICLE TYPE CODE 1  VEHICLE TYPE CODE 2  \\\n",
       "298031     3818931                    1                    1   \n",
       "298061     3819295                    1                    1   \n",
       "298072     3820721                    1                    1   \n",
       "298114     3820644                    1                    1   \n",
       "298164     3820722                    1                    1   \n",
       "\n",
       "        VEHICLE TYPE CODE 3  VEHICLE TYPE CODE 4  VEHICLE TYPE CODE 5  year  \\\n",
       "298031                    1                    1                    0  2017   \n",
       "298061                    1                    0                    0  2017   \n",
       "298072                    1                    0                    0  2017   \n",
       "298114                    1                    0                    0  2017   \n",
       "298164                    1                    0                    0  2017   \n",
       "\n",
       "       Num_of_Vehicles month  \n",
       "298031               4    12  \n",
       "298061               3    12  \n",
       "298072               3    12  \n",
       "298114               3    12  \n",
       "298164               3    12  \n",
       "\n",
       "[5 rows x 32 columns]"
      ]
     },
     "execution_count": 174,
     "metadata": {},
     "output_type": "execute_result"
    }
   ],
   "source": [
    "df_new.head()"
   ]
  },
  {
   "cell_type": "code",
   "execution_count": 175,
   "metadata": {},
   "outputs": [
    {
     "name": "stderr",
     "output_type": "stream",
     "text": [
      "/Users/zhouy2/anaconda3/lib/python3.7/site-packages/ipykernel_launcher.py:1: SettingWithCopyWarning: \n",
      "A value is trying to be set on a copy of a slice from a DataFrame.\n",
      "Try using .loc[row_indexer,col_indexer] = value instead\n",
      "\n",
      "See the caveats in the documentation: http://pandas.pydata.org/pandas-docs/stable/indexing.html#indexing-view-versus-copy\n",
      "  \"\"\"Entry point for launching an IPython kernel.\n"
     ]
    }
   ],
   "source": [
    "df_2017['month'] = df_2017['DATE'].dt.month"
   ]
  },
  {
   "cell_type": "code",
   "execution_count": 176,
   "metadata": {},
   "outputs": [
    {
     "data": {
      "text/plain": [
       "6     21369\n",
       "5     21012\n",
       "10    20358\n",
       "12    19715\n",
       "11    19661\n",
       "9     19604\n",
       "7     19593\n",
       "3     19336\n",
       "8     19134\n",
       "4     17829\n",
       "1     17551\n",
       "2     15835\n",
       "Name: month, dtype: int64"
      ]
     },
     "execution_count": 176,
     "metadata": {},
     "output_type": "execute_result"
    }
   ],
   "source": [
    "df_2017['month'].value_counts()"
   ]
  },
  {
   "cell_type": "code",
   "execution_count": 178,
   "metadata": {},
   "outputs": [
    {
     "data": {
      "text/plain": [
       "17551"
      ]
     },
     "execution_count": 178,
     "metadata": {},
     "output_type": "execute_result"
    }
   ],
   "source": [
    "df_2017[df_2017['month'] == 1].shape[0]"
   ]
  },
  {
   "cell_type": "code",
   "execution_count": 179,
   "metadata": {},
   "outputs": [
    {
     "name": "stdout",
     "output_type": "stream",
     "text": [
      "0.3539399464417982 0.05406434418427565\n"
     ]
    }
   ],
   "source": [
    "ratio_Jan = df_new[df_new['month'] == 1].shape[0]/df_2017[df_2017['month'] == 1].shape[0]\n",
    "ratio_May = df_new[df_new['month'] == 5].shape[0]/df_2017[df_2017['month'] == 5].shape[0]\n",
    "print(ratio_Jan, ratio_May)"
   ]
  },
  {
   "cell_type": "code",
   "execution_count": 180,
   "metadata": {},
   "outputs": [],
   "source": [
    "from scipy.stats import chisquare"
   ]
  },
  {
   "cell_type": "code",
   "execution_count": 182,
   "metadata": {},
   "outputs": [
    {
     "data": {
      "text/plain": [
       "Power_divergenceResult(statistic=0.220403017554848, pvalue=0.6387330106696103)"
      ]
     },
     "execution_count": 182,
     "metadata": {},
     "output_type": "execute_result"
    }
   ],
   "source": [
    "chisquare([0.3539399464417982,0.05406434418427565], axis=None)"
   ]
  },
  {
   "cell_type": "markdown",
   "metadata": {},
   "source": [
    "# Consider the total number of collisions each year from 2013-2018. Is there an apparent trend? Fit a linear regression for the number of collisions per year and report its slope."
   ]
  },
  {
   "cell_type": "code",
   "execution_count": 183,
   "metadata": {},
   "outputs": [],
   "source": [
    "df_2013 = df[df['year'] == 2013]\n",
    "df_2014 = df[df['year'] == 2014]\n",
    "df_2015 = df[df['year'] == 2015]\n",
    "df_2016 = df[df['year'] == 2016]\n",
    "df_2017 = df[df['year'] == 2017]\n",
    "df_2018 = df[df['year'] == 2018]"
   ]
  },
  {
   "cell_type": "code",
   "execution_count": 186,
   "metadata": {},
   "outputs": [
    {
     "data": {
      "text/plain": [
       "((203729, 31),\n",
       " (206030, 31),\n",
       " (217692, 31),\n",
       " (229788, 31),\n",
       " (230997, 31),\n",
       " (231466, 31))"
      ]
     },
     "execution_count": 186,
     "metadata": {},
     "output_type": "execute_result"
    }
   ],
   "source": [
    "df_2013.shape, df_2014.shape, df_2015.shape, df_2016.shape, df_2017.shape, df_2018.shape"
   ]
  },
  {
   "cell_type": "code",
   "execution_count": 221,
   "metadata": {},
   "outputs": [],
   "source": [
    "X_train = pd.Series(np.array([2013, 2014, 2015, 2016, 2017, 2018]))\n",
    "y = pd.Series(np.array([203729, 206030, 217692, 229788, 230997, 231466]))"
   ]
  },
  {
   "cell_type": "code",
   "execution_count": 217,
   "metadata": {},
   "outputs": [
    {
     "data": {
      "text/plain": [
       "array([203729, 206030, 217692, 229788, 230997, 231466])"
      ]
     },
     "execution_count": 217,
     "metadata": {},
     "output_type": "execute_result"
    }
   ],
   "source": [
    "X_train.values\n",
    "y.values"
   ]
  },
  {
   "cell_type": "code",
   "execution_count": 187,
   "metadata": {},
   "outputs": [],
   "source": [
    "from sklearn.linear_model import LinearRegression"
   ]
  },
  {
   "cell_type": "code",
   "execution_count": 188,
   "metadata": {},
   "outputs": [],
   "source": [
    "lr = LinearRegression()"
   ]
  },
  {
   "cell_type": "code",
   "execution_count": 222,
   "metadata": {},
   "outputs": [],
   "source": [
    "model = lr.fit(X_train.values.reshape(-1,1), y)"
   ]
  },
  {
   "cell_type": "code",
   "execution_count": 224,
   "metadata": {},
   "outputs": [
    {
     "data": {
      "text/plain": [
       "array([6448.05714286])"
      ]
     },
     "execution_count": 224,
     "metadata": {},
     "output_type": "execute_result"
    }
   ],
   "source": [
    "model.coef_"
   ]
  },
  {
   "cell_type": "markdown",
   "metadata": {},
   "source": [
    "# For collisions in 2017, estimate the number of collisions per square kilometer of each zip code region.# "
   ]
  },
  {
   "cell_type": "code",
   "execution_count": 225,
   "metadata": {},
   "outputs": [
    {
     "data": {
      "text/html": [
       "<div>\n",
       "<style scoped>\n",
       "    .dataframe tbody tr th:only-of-type {\n",
       "        vertical-align: middle;\n",
       "    }\n",
       "\n",
       "    .dataframe tbody tr th {\n",
       "        vertical-align: top;\n",
       "    }\n",
       "\n",
       "    .dataframe thead th {\n",
       "        text-align: right;\n",
       "    }\n",
       "</style>\n",
       "<table border=\"1\" class=\"dataframe\">\n",
       "  <thead>\n",
       "    <tr style=\"text-align: right;\">\n",
       "      <th></th>\n",
       "      <th>DATE</th>\n",
       "      <th>TIME</th>\n",
       "      <th>BOROUGH</th>\n",
       "      <th>ZIP CODE</th>\n",
       "      <th>LATITUDE</th>\n",
       "      <th>LONGITUDE</th>\n",
       "      <th>LOCATION</th>\n",
       "      <th>ON STREET NAME</th>\n",
       "      <th>CROSS STREET NAME</th>\n",
       "      <th>OFF STREET NAME</th>\n",
       "      <th>...</th>\n",
       "      <th>CONTRIBUTING FACTOR VEHICLE 4</th>\n",
       "      <th>CONTRIBUTING FACTOR VEHICLE 5</th>\n",
       "      <th>UNIQUE KEY</th>\n",
       "      <th>VEHICLE TYPE CODE 1</th>\n",
       "      <th>VEHICLE TYPE CODE 2</th>\n",
       "      <th>VEHICLE TYPE CODE 3</th>\n",
       "      <th>VEHICLE TYPE CODE 4</th>\n",
       "      <th>VEHICLE TYPE CODE 5</th>\n",
       "      <th>year</th>\n",
       "      <th>month</th>\n",
       "    </tr>\n",
       "  </thead>\n",
       "  <tbody>\n",
       "    <tr>\n",
       "      <th>297303</th>\n",
       "      <td>2017-12-31</td>\n",
       "      <td>12:47</td>\n",
       "      <td>NaN</td>\n",
       "      <td>NaN</td>\n",
       "      <td>40.830738</td>\n",
       "      <td>-73.91050</td>\n",
       "      <td>(40.830738, -73.9105)</td>\n",
       "      <td>WEBSTER AVENUE</td>\n",
       "      <td>NaN</td>\n",
       "      <td>NaN</td>\n",
       "      <td>...</td>\n",
       "      <td>NaN</td>\n",
       "      <td>NaN</td>\n",
       "      <td>3820621</td>\n",
       "      <td>SPORT UTILITY / STATION WAGON</td>\n",
       "      <td>NaN</td>\n",
       "      <td>NaN</td>\n",
       "      <td>NaN</td>\n",
       "      <td>NaN</td>\n",
       "      <td>2017</td>\n",
       "      <td>NaN</td>\n",
       "    </tr>\n",
       "    <tr>\n",
       "      <th>297328</th>\n",
       "      <td>2017-12-15</td>\n",
       "      <td>18:15</td>\n",
       "      <td>MANHATTAN</td>\n",
       "      <td>10036</td>\n",
       "      <td>NaN</td>\n",
       "      <td>NaN</td>\n",
       "      <td>NaN</td>\n",
       "      <td>NaN</td>\n",
       "      <td>NaN</td>\n",
       "      <td>141       WEST 43 STREET</td>\n",
       "      <td>...</td>\n",
       "      <td>NaN</td>\n",
       "      <td>NaN</td>\n",
       "      <td>3811434</td>\n",
       "      <td>PASSENGER VEHICLE</td>\n",
       "      <td>NaN</td>\n",
       "      <td>NaN</td>\n",
       "      <td>NaN</td>\n",
       "      <td>NaN</td>\n",
       "      <td>2017</td>\n",
       "      <td>NaN</td>\n",
       "    </tr>\n",
       "    <tr>\n",
       "      <th>297475</th>\n",
       "      <td>2017-11-23</td>\n",
       "      <td>20:25</td>\n",
       "      <td>NaN</td>\n",
       "      <td>NaN</td>\n",
       "      <td>40.728275</td>\n",
       "      <td>-73.89130</td>\n",
       "      <td>(40.728275, -73.8913)</td>\n",
       "      <td>GRAND AVENUE</td>\n",
       "      <td>NaN</td>\n",
       "      <td>NaN</td>\n",
       "      <td>...</td>\n",
       "      <td>NaN</td>\n",
       "      <td>NaN</td>\n",
       "      <td>3796043</td>\n",
       "      <td>BU</td>\n",
       "      <td>NaN</td>\n",
       "      <td>NaN</td>\n",
       "      <td>NaN</td>\n",
       "      <td>NaN</td>\n",
       "      <td>2017</td>\n",
       "      <td>NaN</td>\n",
       "    </tr>\n",
       "    <tr>\n",
       "      <th>297500</th>\n",
       "      <td>2017-12-31</td>\n",
       "      <td>7:00</td>\n",
       "      <td>NaN</td>\n",
       "      <td>NaN</td>\n",
       "      <td>NaN</td>\n",
       "      <td>NaN</td>\n",
       "      <td>NaN</td>\n",
       "      <td>OCEAN PARKWAY</td>\n",
       "      <td>NaN</td>\n",
       "      <td>NaN</td>\n",
       "      <td>...</td>\n",
       "      <td>NaN</td>\n",
       "      <td>NaN</td>\n",
       "      <td>3819129</td>\n",
       "      <td>PASSENGER VEHICLE</td>\n",
       "      <td>PASSENGER VEHICLE</td>\n",
       "      <td>NaN</td>\n",
       "      <td>NaN</td>\n",
       "      <td>NaN</td>\n",
       "      <td>2017</td>\n",
       "      <td>NaN</td>\n",
       "    </tr>\n",
       "    <tr>\n",
       "      <th>298018</th>\n",
       "      <td>2017-12-31</td>\n",
       "      <td>0:00</td>\n",
       "      <td>BRONX</td>\n",
       "      <td>10471</td>\n",
       "      <td>40.910130</td>\n",
       "      <td>-73.90322</td>\n",
       "      <td>(40.91013, -73.90322)</td>\n",
       "      <td>RIVERDALE AVENUE</td>\n",
       "      <td>WEST 261 STREET</td>\n",
       "      <td>NaN</td>\n",
       "      <td>...</td>\n",
       "      <td>NaN</td>\n",
       "      <td>NaN</td>\n",
       "      <td>3820806</td>\n",
       "      <td>SPORT UTILITY / STATION WAGON</td>\n",
       "      <td>NaN</td>\n",
       "      <td>NaN</td>\n",
       "      <td>NaN</td>\n",
       "      <td>NaN</td>\n",
       "      <td>2017</td>\n",
       "      <td>NaN</td>\n",
       "    </tr>\n",
       "  </tbody>\n",
       "</table>\n",
       "<p>5 rows × 31 columns</p>\n",
       "</div>"
      ],
      "text/plain": [
       "             DATE   TIME    BOROUGH ZIP CODE   LATITUDE  LONGITUDE  \\\n",
       "297303 2017-12-31  12:47        NaN      NaN  40.830738  -73.91050   \n",
       "297328 2017-12-15  18:15  MANHATTAN    10036        NaN        NaN   \n",
       "297475 2017-11-23  20:25        NaN      NaN  40.728275  -73.89130   \n",
       "297500 2017-12-31   7:00        NaN      NaN        NaN        NaN   \n",
       "298018 2017-12-31   0:00      BRONX    10471  40.910130  -73.90322   \n",
       "\n",
       "                     LOCATION                    ON STREET NAME  \\\n",
       "297303  (40.830738, -73.9105)  WEBSTER AVENUE                     \n",
       "297328                    NaN                               NaN   \n",
       "297475  (40.728275, -73.8913)  GRAND AVENUE                       \n",
       "297500                    NaN  OCEAN PARKWAY                      \n",
       "298018  (40.91013, -73.90322)  RIVERDALE AVENUE                   \n",
       "\n",
       "       CROSS STREET NAME                           OFF STREET NAME  ...   \\\n",
       "297303               NaN                                       NaN  ...    \n",
       "297328               NaN  141       WEST 43 STREET                  ...    \n",
       "297475               NaN                                       NaN  ...    \n",
       "297500               NaN                                       NaN  ...    \n",
       "298018   WEST 261 STREET                                       NaN  ...    \n",
       "\n",
       "        CONTRIBUTING FACTOR VEHICLE 4  CONTRIBUTING FACTOR VEHICLE 5  \\\n",
       "297303                            NaN                            NaN   \n",
       "297328                            NaN                            NaN   \n",
       "297475                            NaN                            NaN   \n",
       "297500                            NaN                            NaN   \n",
       "298018                            NaN                            NaN   \n",
       "\n",
       "        UNIQUE KEY            VEHICLE TYPE CODE 1  VEHICLE TYPE CODE 2  \\\n",
       "297303     3820621  SPORT UTILITY / STATION WAGON                  NaN   \n",
       "297328     3811434              PASSENGER VEHICLE                  NaN   \n",
       "297475     3796043                             BU                  NaN   \n",
       "297500     3819129              PASSENGER VEHICLE    PASSENGER VEHICLE   \n",
       "298018     3820806  SPORT UTILITY / STATION WAGON                  NaN   \n",
       "\n",
       "        VEHICLE TYPE CODE 3  VEHICLE TYPE CODE 4  VEHICLE TYPE CODE 5  year  \\\n",
       "297303                  NaN                  NaN                  NaN  2017   \n",
       "297328                  NaN                  NaN                  NaN  2017   \n",
       "297475                  NaN                  NaN                  NaN  2017   \n",
       "297500                  NaN                  NaN                  NaN  2017   \n",
       "298018                  NaN                  NaN                  NaN  2017   \n",
       "\n",
       "       month  \n",
       "297303   NaN  \n",
       "297328   NaN  \n",
       "297475   NaN  \n",
       "297500   NaN  \n",
       "298018   NaN  \n",
       "\n",
       "[5 rows x 31 columns]"
      ]
     },
     "execution_count": 225,
     "metadata": {},
     "output_type": "execute_result"
    }
   ],
   "source": [
    "df_2017.head()"
   ]
  },
  {
   "cell_type": "code",
   "execution_count": null,
   "metadata": {},
   "outputs": [],
   "source": []
  },
  {
   "cell_type": "code",
   "execution_count": 267,
   "metadata": {},
   "outputs": [],
   "source": [
    "zip_code = df_2017.groupby('ZIP CODE').filter(lambda x: len(x) >= 1000)['ZIP CODE'].unique()"
   ]
  },
  {
   "cell_type": "code",
   "execution_count": 282,
   "metadata": {},
   "outputs": [],
   "source": [
    "collisions = df_2017.groupby('ZIP CODE').filter(lambda x: len(x) >= 1000)"
   ]
  },
  {
   "cell_type": "code",
   "execution_count": 290,
   "metadata": {},
   "outputs": [
    {
     "data": {
      "text/plain": [
       "56"
      ]
     },
     "execution_count": 290,
     "metadata": {},
     "output_type": "execute_result"
    }
   ],
   "source": [
    "collisions_number = [collisions[collisions['ZIP CODE'] == code].shape[0] for code in zip_code]\n",
    "len(collisions_number)"
   ]
  },
  {
   "cell_type": "code",
   "execution_count": 254,
   "metadata": {},
   "outputs": [
    {
     "data": {
      "text/html": [
       "<div>\n",
       "<style scoped>\n",
       "    .dataframe tbody tr th:only-of-type {\n",
       "        vertical-align: middle;\n",
       "    }\n",
       "\n",
       "    .dataframe tbody tr th {\n",
       "        vertical-align: top;\n",
       "    }\n",
       "\n",
       "    .dataframe thead th {\n",
       "        text-align: right;\n",
       "    }\n",
       "</style>\n",
       "<table border=\"1\" class=\"dataframe\">\n",
       "  <thead>\n",
       "    <tr style=\"text-align: right;\">\n",
       "      <th></th>\n",
       "      <th>LATITUDE</th>\n",
       "      <th>LONGITUDE</th>\n",
       "      <th>NUMBER OF PERSONS INJURED</th>\n",
       "      <th>NUMBER OF PERSONS KILLED</th>\n",
       "      <th>NUMBER OF PEDESTRIANS INJURED</th>\n",
       "      <th>NUMBER OF PEDESTRIANS KILLED</th>\n",
       "      <th>NUMBER OF CYCLIST INJURED</th>\n",
       "      <th>NUMBER OF CYCLIST KILLED</th>\n",
       "      <th>NUMBER OF MOTORIST INJURED</th>\n",
       "      <th>NUMBER OF MOTORIST KILLED</th>\n",
       "      <th>UNIQUE KEY</th>\n",
       "      <th>year</th>\n",
       "      <th>month</th>\n",
       "    </tr>\n",
       "  </thead>\n",
       "  <tbody>\n",
       "    <tr>\n",
       "      <th>count</th>\n",
       "      <td>2356.000000</td>\n",
       "      <td>2356.000000</td>\n",
       "      <td>2399.000000</td>\n",
       "      <td>2399.0</td>\n",
       "      <td>2400.000000</td>\n",
       "      <td>2400.0</td>\n",
       "      <td>2400.000000</td>\n",
       "      <td>2400.0</td>\n",
       "      <td>2400.000000</td>\n",
       "      <td>2400.0</td>\n",
       "      <td>2.400000e+03</td>\n",
       "      <td>2400.0</td>\n",
       "      <td>206.000000</td>\n",
       "    </tr>\n",
       "    <tr>\n",
       "      <th>mean</th>\n",
       "      <td>40.652928</td>\n",
       "      <td>-73.863265</td>\n",
       "      <td>0.310546</td>\n",
       "      <td>0.0</td>\n",
       "      <td>0.058333</td>\n",
       "      <td>0.0</td>\n",
       "      <td>0.016250</td>\n",
       "      <td>0.0</td>\n",
       "      <td>0.235417</td>\n",
       "      <td>0.0</td>\n",
       "      <td>3.709396e+06</td>\n",
       "      <td>2017.0</td>\n",
       "      <td>5.199029</td>\n",
       "    </tr>\n",
       "    <tr>\n",
       "      <th>std</th>\n",
       "      <td>0.837960</td>\n",
       "      <td>1.522412</td>\n",
       "      <td>0.720151</td>\n",
       "      <td>0.0</td>\n",
       "      <td>0.285712</td>\n",
       "      <td>0.0</td>\n",
       "      <td>0.126462</td>\n",
       "      <td>0.0</td>\n",
       "      <td>0.667843</td>\n",
       "      <td>0.0</td>\n",
       "      <td>6.939328e+04</td>\n",
       "      <td>0.0</td>\n",
       "      <td>3.861530</td>\n",
       "    </tr>\n",
       "    <tr>\n",
       "      <th>min</th>\n",
       "      <td>0.000000</td>\n",
       "      <td>-73.991295</td>\n",
       "      <td>0.000000</td>\n",
       "      <td>0.0</td>\n",
       "      <td>0.000000</td>\n",
       "      <td>0.0</td>\n",
       "      <td>0.000000</td>\n",
       "      <td>0.0</td>\n",
       "      <td>0.000000</td>\n",
       "      <td>0.0</td>\n",
       "      <td>3.590578e+06</td>\n",
       "      <td>2017.0</td>\n",
       "      <td>1.000000</td>\n",
       "    </tr>\n",
       "    <tr>\n",
       "      <th>25%</th>\n",
       "      <td>40.661032</td>\n",
       "      <td>-73.898415</td>\n",
       "      <td>0.000000</td>\n",
       "      <td>0.0</td>\n",
       "      <td>0.000000</td>\n",
       "      <td>0.0</td>\n",
       "      <td>0.000000</td>\n",
       "      <td>0.0</td>\n",
       "      <td>0.000000</td>\n",
       "      <td>0.0</td>\n",
       "      <td>3.649858e+06</td>\n",
       "      <td>2017.0</td>\n",
       "      <td>1.000000</td>\n",
       "    </tr>\n",
       "    <tr>\n",
       "      <th>50%</th>\n",
       "      <td>40.671042</td>\n",
       "      <td>-73.894267</td>\n",
       "      <td>0.000000</td>\n",
       "      <td>0.0</td>\n",
       "      <td>0.000000</td>\n",
       "      <td>0.0</td>\n",
       "      <td>0.000000</td>\n",
       "      <td>0.0</td>\n",
       "      <td>0.000000</td>\n",
       "      <td>0.0</td>\n",
       "      <td>3.707775e+06</td>\n",
       "      <td>2017.0</td>\n",
       "      <td>5.000000</td>\n",
       "    </tr>\n",
       "    <tr>\n",
       "      <th>75%</th>\n",
       "      <td>40.677628</td>\n",
       "      <td>-73.889430</td>\n",
       "      <td>0.000000</td>\n",
       "      <td>0.0</td>\n",
       "      <td>0.000000</td>\n",
       "      <td>0.0</td>\n",
       "      <td>0.000000</td>\n",
       "      <td>0.0</td>\n",
       "      <td>0.000000</td>\n",
       "      <td>0.0</td>\n",
       "      <td>3.768636e+06</td>\n",
       "      <td>2017.0</td>\n",
       "      <td>8.000000</td>\n",
       "    </tr>\n",
       "    <tr>\n",
       "      <th>max</th>\n",
       "      <td>40.769493</td>\n",
       "      <td>0.000000</td>\n",
       "      <td>8.000000</td>\n",
       "      <td>0.0</td>\n",
       "      <td>7.000000</td>\n",
       "      <td>0.0</td>\n",
       "      <td>1.000000</td>\n",
       "      <td>0.0</td>\n",
       "      <td>8.000000</td>\n",
       "      <td>0.0</td>\n",
       "      <td>4.025321e+06</td>\n",
       "      <td>2017.0</td>\n",
       "      <td>12.000000</td>\n",
       "    </tr>\n",
       "  </tbody>\n",
       "</table>\n",
       "</div>"
      ],
      "text/plain": [
       "          LATITUDE    LONGITUDE  NUMBER OF PERSONS INJURED  \\\n",
       "count  2356.000000  2356.000000                2399.000000   \n",
       "mean     40.652928   -73.863265                   0.310546   \n",
       "std       0.837960     1.522412                   0.720151   \n",
       "min       0.000000   -73.991295                   0.000000   \n",
       "25%      40.661032   -73.898415                   0.000000   \n",
       "50%      40.671042   -73.894267                   0.000000   \n",
       "75%      40.677628   -73.889430                   0.000000   \n",
       "max      40.769493     0.000000                   8.000000   \n",
       "\n",
       "       NUMBER OF PERSONS KILLED  NUMBER OF PEDESTRIANS INJURED  \\\n",
       "count                    2399.0                    2400.000000   \n",
       "mean                        0.0                       0.058333   \n",
       "std                         0.0                       0.285712   \n",
       "min                         0.0                       0.000000   \n",
       "25%                         0.0                       0.000000   \n",
       "50%                         0.0                       0.000000   \n",
       "75%                         0.0                       0.000000   \n",
       "max                         0.0                       7.000000   \n",
       "\n",
       "       NUMBER OF PEDESTRIANS KILLED  NUMBER OF CYCLIST INJURED  \\\n",
       "count                        2400.0                2400.000000   \n",
       "mean                            0.0                   0.016250   \n",
       "std                             0.0                   0.126462   \n",
       "min                             0.0                   0.000000   \n",
       "25%                             0.0                   0.000000   \n",
       "50%                             0.0                   0.000000   \n",
       "75%                             0.0                   0.000000   \n",
       "max                             0.0                   1.000000   \n",
       "\n",
       "       NUMBER OF CYCLIST KILLED  NUMBER OF MOTORIST INJURED  \\\n",
       "count                    2400.0                 2400.000000   \n",
       "mean                        0.0                    0.235417   \n",
       "std                         0.0                    0.667843   \n",
       "min                         0.0                    0.000000   \n",
       "25%                         0.0                    0.000000   \n",
       "50%                         0.0                    0.000000   \n",
       "75%                         0.0                    0.000000   \n",
       "max                         0.0                    8.000000   \n",
       "\n",
       "       NUMBER OF MOTORIST KILLED    UNIQUE KEY    year       month  \n",
       "count                     2400.0  2.400000e+03  2400.0  206.000000  \n",
       "mean                         0.0  3.709396e+06  2017.0    5.199029  \n",
       "std                          0.0  6.939328e+04     0.0    3.861530  \n",
       "min                          0.0  3.590578e+06  2017.0    1.000000  \n",
       "25%                          0.0  3.649858e+06  2017.0    1.000000  \n",
       "50%                          0.0  3.707775e+06  2017.0    5.000000  \n",
       "75%                          0.0  3.768636e+06  2017.0    8.000000  \n",
       "max                          0.0  4.025321e+06  2017.0   12.000000  "
      ]
     },
     "execution_count": 254,
     "metadata": {},
     "output_type": "execute_result"
    }
   ],
   "source": [
    "df_2017[df_2017['ZIP CODE'] == i].describe()"
   ]
  },
  {
   "cell_type": "code",
   "execution_count": 289,
   "metadata": {},
   "outputs": [
    {
     "data": {
      "text/plain": [
       "56"
      ]
     },
     "execution_count": 289,
     "metadata": {},
     "output_type": "execute_result"
    }
   ],
   "source": [
    "len(zip_code)"
   ]
  },
  {
   "cell_type": "code",
   "execution_count": 276,
   "metadata": {},
   "outputs": [],
   "source": [
    "import math\n",
    "S = []\n",
    "for code in zip_code:\n",
    "    s = math.pi * np.std(df_2017[df_2017['ZIP CODE'] == code]['LATITUDE']) * np.std(df_2017[df_2017['ZIP CODE'] == code]['LONGITUDE'])\n",
    "    S.append(s)"
   ]
  },
  {
   "cell_type": "code",
   "execution_count": 299,
   "metadata": {},
   "outputs": [
    {
     "data": {
      "text/plain": [
       "array([5.77696472e+00, 1.54222337e+01, 6.94980943e-05, 1.35452115e-04,\n",
       "       6.05091997e+00, 1.76032125e+01, 1.94804211e-04, 2.80183665e-04,\n",
       "       3.00791540e-04, 1.55208778e-04, 2.01798483e+01, 3.60621234e-04,\n",
       "       2.27376647e-04, 9.64496560e+00, 2.14068471e+01, 6.78297176e-05,\n",
       "       5.05468767e+00, 1.53514877e-04, 1.12607036e-04, 2.79519724e+01,\n",
       "       1.03320174e-04, 2.21086188e-04, 1.63805538e+01, 1.62307272e-04,\n",
       "       8.19667170e+00, 1.35780222e-04, 2.87679642e-05, 8.64307373e+00,\n",
       "       9.81581391e-05, 3.31075100e-04, 2.18260329e-04, 8.87231061e+00,\n",
       "       6.03180064e+00, 1.85772431e-04, 4.09254152e-04, 6.77205645e+00,\n",
       "       6.27772219e+00, 9.54431471e+00, 4.00609205e+00, 5.71341901e+00,\n",
       "       1.51621662e-04, 1.22615011e-04, 1.03326680e-04, 7.97417364e-05,\n",
       "       2.54812272e-04, 7.89927505e+00, 1.26433711e+01, 1.44506533e-04,\n",
       "       1.17026569e-04, 5.64406843e-05, 9.04095095e-05, 8.28398140e+00,\n",
       "       5.71096407e-05, 2.99585859e-04, 1.03213797e+01, 1.84037873e-04])"
      ]
     },
     "execution_count": 299,
     "metadata": {},
     "output_type": "execute_result"
    }
   ],
   "source": [
    "np.array(S)"
   ]
  },
  {
   "cell_type": "code",
   "execution_count": 294,
   "metadata": {},
   "outputs": [],
   "source": [
    "res = np.array(collisions_number)/np.array(S)"
   ]
  },
  {
   "cell_type": "code",
   "execution_count": 298,
   "metadata": {},
   "outputs": [
    {
     "data": {
      "text/plain": [
       "array([3.20756676e+02, 8.07276055e+01, 2.10797147e+07, 1.03062252e+07,\n",
       "       2.59629942e+02, 9.37328912e+01, 8.95257854e+06, 6.84550971e+06,\n",
       "       5.95428981e+06, 8.05366819e+06, 9.32613552e+01, 3.17784948e+06,\n",
       "       4.79380805e+06, 1.04303120e+02, 6.38113588e+01, 1.61581094e+07,\n",
       "       3.72525490e+02, 7.41947636e+06, 1.24148548e+07, 4.13924278e+01,\n",
       "       1.44792632e+07, 4.81260277e+06, 7.14261565e+01, 6.49385568e+06,\n",
       "       1.41154854e+02, 8.95564892e+06, 5.04380494e+07, 1.27269538e+02,\n",
       "       1.88369504e+07, 3.52488000e+06, 8.87930484e+06, 1.25671885e+02,\n",
       "       2.68079152e+02, 7.33693363e+06, 3.79470799e+06, 2.14705830e+02,\n",
       "       2.41170277e+02, 1.06555581e+02, 5.99087582e+02, 3.20823660e+02,\n",
       "       7.53850068e+06, 1.00966430e+07, 9.87160333e+06, 1.28916179e+07,\n",
       "       5.38828050e+06, 1.55710491e+02, 1.23701186e+02, 8.88541143e+06,\n",
       "       9.45939036e+06, 1.83201181e+07, 1.34388518e+07, 1.44616452e+02,\n",
       "       2.02592765e+07, 3.73515628e+06, 1.85537210e+02, 6.15090787e+06])"
      ]
     },
     "execution_count": 298,
     "metadata": {},
     "output_type": "execute_result"
    }
   ],
   "source": [
    "res"
   ]
  },
  {
   "cell_type": "markdown",
   "metadata": {},
   "source": [
    "Based upon the Array S, we could drop any zipcode with very small areas, therefore the largest collisions number per square kilometer is 599.087582000"
   ]
  },
  {
   "cell_type": "code",
   "execution_count": null,
   "metadata": {},
   "outputs": [],
   "source": []
  }
 ],
 "metadata": {
  "kernelspec": {
   "display_name": "Python 3",
   "language": "python",
   "name": "python3"
  },
  "language_info": {
   "codemirror_mode": {
    "name": "ipython",
    "version": 3
   },
   "file_extension": ".py",
   "mimetype": "text/x-python",
   "name": "python",
   "nbconvert_exporter": "python",
   "pygments_lexer": "ipython3",
   "version": "3.7.2"
  }
 },
 "nbformat": 4,
 "nbformat_minor": 2
}
